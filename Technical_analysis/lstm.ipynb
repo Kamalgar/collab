{
  "cells": [
    {
      "cell_type": "code",
      "execution_count": 1,
      "id": "50c2ccd6-4fed-4439-8d8c-a361adf1b9a9",
      "metadata": {
        "id": "50c2ccd6-4fed-4439-8d8c-a361adf1b9a9"
      },
      "outputs": [],
      "source": [
        "import numpy as np\n",
        "import matplotlib.pyplot as plt\n",
        "from sklearn.preprocessing import MinMaxScaler\n",
        "from sklearn.metrics import mean_squared_error, mean_absolute_error\n",
        "from tensorflow.keras.models import Sequential\n",
        "from tensorflow.keras.layers import LSTM, Dropout, Dense\n"
      ]
    },
    {
      "cell_type": "code",
      "execution_count": 2,
      "id": "8a8ca2ba-f143-4ee5-bb82-47309210f2ae",
      "metadata": {
        "id": "8a8ca2ba-f143-4ee5-bb82-47309210f2ae"
      },
      "outputs": [],
      "source": [
        "# Generate sample data\n",
        "np.random.seed(42)\n",
        "data_length = 1000\n",
        "time = np.arange(data_length)\n",
        "price = 100 + np.cumsum(np.random.randn(data_length))\n"
      ]
    },
    {
      "cell_type": "code",
      "execution_count": 3,
      "id": "e48f8f2e-b0df-4b8e-848a-495156318a73",
      "metadata": {
        "id": "e48f8f2e-b0df-4b8e-848a-495156318a73"
      },
      "outputs": [],
      "source": [
        "# Reshape the data for scaling\n",
        "price = price.reshape(-1, 1)\n"
      ]
    },
    {
      "cell_type": "code",
      "execution_count": 4,
      "id": "330dee63-ad85-488c-a8d7-5911697419c2",
      "metadata": {
        "id": "330dee63-ad85-488c-a8d7-5911697419c2"
      },
      "outputs": [],
      "source": [
        "# Split data into train and test sets\n",
        "train_size = int(len(price) * 0.8)\n",
        "test_size = len(price) - train_size\n",
        "train_data, test_data = price[0:train_size], price[train_size:]\n"
      ]
    },
    {
      "cell_type": "code",
      "execution_count": 5,
      "id": "4e1c9f2c-5c86-4530-98c8-85cfe7c90a4f",
      "metadata": {
        "id": "4e1c9f2c-5c86-4530-98c8-85cfe7c90a4f"
      },
      "outputs": [],
      "source": [
        "# Scale the data\n",
        "scaler = MinMaxScaler(feature_range=(0, 1))\n",
        "train_scaled = scaler.fit_transform(train_data)\n",
        "test_scaled = scaler.transform(test_data)\n"
      ]
    },
    {
      "cell_type": "code",
      "execution_count": 6,
      "id": "960ab3ae-b15e-4cc8-a178-77e14630a026",
      "metadata": {
        "id": "960ab3ae-b15e-4cc8-a178-77e14630a026"
      },
      "outputs": [],
      "source": [
        "# Prepare data for LSTM model\n",
        "def create_dataset(data, look_back=1):\n",
        "    X, y = [], []\n",
        "    for i in range(len(data) - look_back):\n",
        "        X.append(data[i:(i + look_back), 0])\n",
        "        y.append(data[i + look_back, 0])\n",
        "    return np.array(X), np.array(y)\n"
      ]
    },
    {
      "cell_type": "code",
      "execution_count": 7,
      "id": "a658de89-947a-40f6-844f-be9ab175d4eb",
      "metadata": {
        "id": "a658de89-947a-40f6-844f-be9ab175d4eb"
      },
      "outputs": [],
      "source": [
        "look_back = 60  # Sequence length\n",
        "X_train, y_train = create_dataset(train_scaled, look_back)\n",
        "X_test, y_test = create_dataset(test_scaled, look_back)\n"
      ]
    },
    {
      "cell_type": "code",
      "execution_count": 8,
      "id": "32711662-37fd-4dd7-b81d-ff2db49874a6",
      "metadata": {
        "id": "32711662-37fd-4dd7-b81d-ff2db49874a6"
      },
      "outputs": [],
      "source": [
        "# Reshape input data for LSTM (samples, time steps, features)\n",
        "X_train = np.reshape(X_train, (X_train.shape[0], X_train.shape[1], 1))\n",
        "X_test = np.reshape(X_test, (X_test.shape[0], X_test.shape[1], 1))\n"
      ]
    },
    {
      "cell_type": "code",
      "execution_count": 9,
      "id": "45ebf518-cb11-4667-8b30-dfd98c6d8670",
      "metadata": {
        "id": "45ebf518-cb11-4667-8b30-dfd98c6d8670",
        "outputId": "c0f68f69-bcf7-4cf5-85ab-c8c52d9d7666",
        "colab": {
          "base_uri": "https://localhost:8080/"
        }
      },
      "outputs": [
        {
          "output_type": "stream",
          "name": "stderr",
          "text": [
            "/usr/local/lib/python3.11/dist-packages/keras/src/layers/rnn/rnn.py:200: UserWarning: Do not pass an `input_shape`/`input_dim` argument to a layer. When using Sequential models, prefer using an `Input(shape)` object as the first layer in the model instead.\n",
            "  super().__init__(**kwargs)\n"
          ]
        }
      ],
      "source": [
        "# Build LSTM model\n",
        "model = Sequential()\n",
        "model.add(LSTM(units=50, return_sequences=True, input_shape=(X_train.shape[1], 1)))\n",
        "model.add(Dropout(0.2))\n",
        "model.add(LSTM(units=50, return_sequences=True))\n",
        "model.add(Dropout(0.2))\n",
        "model.add(LSTM(units=50))\n",
        "model.add(Dropout(0.2))\n",
        "model.add(Dense(units=1))\n"
      ]
    },
    {
      "cell_type": "code",
      "execution_count": 10,
      "id": "11144acb-0da1-476d-bb50-62f79997fe8e",
      "metadata": {
        "id": "11144acb-0da1-476d-bb50-62f79997fe8e"
      },
      "outputs": [],
      "source": [
        "# Compile the model\n",
        "model.compile(optimizer='adam', loss='mean_squared_error')\n"
      ]
    },
    {
      "cell_type": "code",
      "execution_count": null,
      "id": "7888193a-6b49-4ccb-b05b-a4350d3372ae",
      "metadata": {
        "id": "7888193a-6b49-4ccb-b05b-a4350d3372ae",
        "outputId": "d5038ff8-0e80-4184-e1b0-80f58a6a54f8",
        "colab": {
          "base_uri": "https://localhost:8080/"
        }
      },
      "outputs": [
        {
          "output_type": "stream",
          "name": "stdout",
          "text": [
            "Epoch 1/100\n",
            "\u001b[1m12/12\u001b[0m \u001b[32m━━━━━━━━━━━━━━━━━━━━\u001b[0m\u001b[37m\u001b[0m \u001b[1m7s\u001b[0m 95ms/step - loss: 0.1235\n",
            "Epoch 2/100\n",
            "\u001b[1m12/12\u001b[0m \u001b[32m━━━━━━━━━━━━━━━━━━━━\u001b[0m\u001b[37m\u001b[0m \u001b[1m1s\u001b[0m 96ms/step - loss: 0.0186\n",
            "Epoch 3/100\n",
            "\u001b[1m12/12\u001b[0m \u001b[32m━━━━━━━━━━━━━━━━━━━━\u001b[0m\u001b[37m\u001b[0m \u001b[1m1s\u001b[0m 95ms/step - loss: 0.0138\n",
            "Epoch 4/100\n",
            "\u001b[1m12/12\u001b[0m \u001b[32m━━━━━━━━━━━━━━━━━━━━\u001b[0m\u001b[37m\u001b[0m \u001b[1m1s\u001b[0m 95ms/step - loss: 0.0104\n",
            "Epoch 5/100\n",
            "\u001b[1m12/12\u001b[0m \u001b[32m━━━━━━━━━━━━━━━━━━━━\u001b[0m\u001b[37m\u001b[0m \u001b[1m1s\u001b[0m 97ms/step - loss: 0.0092\n",
            "Epoch 6/100\n",
            "\u001b[1m12/12\u001b[0m \u001b[32m━━━━━━━━━━━━━━━━━━━━\u001b[0m\u001b[37m\u001b[0m \u001b[1m1s\u001b[0m 93ms/step - loss: 0.0082\n",
            "Epoch 7/100\n",
            "\u001b[1m12/12\u001b[0m \u001b[32m━━━━━━━━━━━━━━━━━━━━\u001b[0m\u001b[37m\u001b[0m \u001b[1m2s\u001b[0m 146ms/step - loss: 0.0084\n",
            "Epoch 8/100\n",
            "\u001b[1m12/12\u001b[0m \u001b[32m━━━━━━━━━━━━━━━━━━━━\u001b[0m\u001b[37m\u001b[0m \u001b[1m2s\u001b[0m 158ms/step - loss: 0.0084\n",
            "Epoch 9/100\n",
            "\u001b[1m12/12\u001b[0m \u001b[32m━━━━━━━━━━━━━━━━━━━━\u001b[0m\u001b[37m\u001b[0m \u001b[1m3s\u001b[0m 220ms/step - loss: 0.0078\n",
            "Epoch 10/100\n",
            "\u001b[1m12/12\u001b[0m \u001b[32m━━━━━━━━━━━━━━━━━━━━\u001b[0m\u001b[37m\u001b[0m \u001b[1m4s\u001b[0m 96ms/step - loss: 0.0074\n",
            "Epoch 11/100\n",
            "\u001b[1m12/12\u001b[0m \u001b[32m━━━━━━━━━━━━━━━━━━━━\u001b[0m\u001b[37m\u001b[0m \u001b[1m1s\u001b[0m 95ms/step - loss: 0.0073\n",
            "Epoch 12/100\n",
            "\u001b[1m12/12\u001b[0m \u001b[32m━━━━━━━━━━━━━━━━━━━━\u001b[0m\u001b[37m\u001b[0m \u001b[1m1s\u001b[0m 97ms/step - loss: 0.0068\n",
            "Epoch 13/100\n",
            "\u001b[1m12/12\u001b[0m \u001b[32m━━━━━━━━━━━━━━━━━━━━\u001b[0m\u001b[37m\u001b[0m \u001b[1m2s\u001b[0m 123ms/step - loss: 0.0069\n",
            "Epoch 14/100\n",
            "\u001b[1m12/12\u001b[0m \u001b[32m━━━━━━━━━━━━━━━━━━━━\u001b[0m\u001b[37m\u001b[0m \u001b[1m2s\u001b[0m 161ms/step - loss: 0.0063\n",
            "Epoch 15/100\n",
            "\u001b[1m12/12\u001b[0m \u001b[32m━━━━━━━━━━━━━━━━━━━━\u001b[0m\u001b[37m\u001b[0m \u001b[1m2s\u001b[0m 95ms/step - loss: 0.0072\n",
            "Epoch 16/100\n",
            "\u001b[1m12/12\u001b[0m \u001b[32m━━━━━━━━━━━━━━━━━━━━\u001b[0m\u001b[37m\u001b[0m \u001b[1m1s\u001b[0m 94ms/step - loss: 0.0062\n",
            "Epoch 17/100\n",
            "\u001b[1m12/12\u001b[0m \u001b[32m━━━━━━━━━━━━━━━━━━━━\u001b[0m\u001b[37m\u001b[0m \u001b[1m1s\u001b[0m 96ms/step - loss: 0.0066\n",
            "Epoch 18/100\n",
            "\u001b[1m12/12\u001b[0m \u001b[32m━━━━━━━━━━━━━━━━━━━━\u001b[0m\u001b[37m\u001b[0m \u001b[1m1s\u001b[0m 96ms/step - loss: 0.0059\n",
            "Epoch 19/100\n",
            "\u001b[1m12/12\u001b[0m \u001b[32m━━━━━━━━━━━━━━━━━━━━\u001b[0m\u001b[37m\u001b[0m \u001b[1m1s\u001b[0m 96ms/step - loss: 0.0058\n",
            "Epoch 20/100\n",
            "\u001b[1m12/12\u001b[0m \u001b[32m━━━━━━━━━━━━━━━━━━━━\u001b[0m\u001b[37m\u001b[0m \u001b[1m1s\u001b[0m 96ms/step - loss: 0.0060\n",
            "Epoch 21/100\n",
            "\u001b[1m12/12\u001b[0m \u001b[32m━━━━━━━━━━━━━━━━━━━━\u001b[0m\u001b[37m\u001b[0m \u001b[1m1s\u001b[0m 98ms/step - loss: 0.0060\n",
            "Epoch 22/100\n",
            "\u001b[1m12/12\u001b[0m \u001b[32m━━━━━━━━━━━━━━━━━━━━\u001b[0m\u001b[37m\u001b[0m \u001b[1m1s\u001b[0m 109ms/step - loss: 0.0059\n",
            "Epoch 23/100\n",
            "\u001b[1m12/12\u001b[0m \u001b[32m━━━━━━━━━━━━━━━━━━━━\u001b[0m\u001b[37m\u001b[0m \u001b[1m2s\u001b[0m 163ms/step - loss: 0.0054\n",
            "Epoch 24/100\n",
            "\u001b[1m 2/12\u001b[0m \u001b[32m━━━\u001b[0m\u001b[37m━━━━━━━━━━━━━━━━━\u001b[0m \u001b[1m0s\u001b[0m 96ms/step - loss: 0.0045 "
          ]
        }
      ],
      "source": [
        "# Train the model\n",
        "model.fit(X_train, y_train, epochs=100, batch_size=64, verbose=1)\n",
        "\n",
        "# Make predictions\n",
        "predictions = model.predict(X_test)\n"
      ]
    },
    {
      "cell_type": "code",
      "execution_count": null,
      "id": "eefdc3d4-377c-4516-8385-27b4d11d6002",
      "metadata": {
        "id": "eefdc3d4-377c-4516-8385-27b4d11d6002"
      },
      "outputs": [],
      "source": [
        "# Invert predictions to original scale\n",
        "predictions = scaler.inverse_transform(predictions)\n",
        "y_test = scaler.inverse_transform([y_test])\n"
      ]
    },
    {
      "cell_type": "code",
      "execution_count": null,
      "id": "d9f60f63-c32c-4adf-9ff1-00b0f95bcd1e",
      "metadata": {
        "id": "d9f60f63-c32c-4adf-9ff1-00b0f95bcd1e"
      },
      "outputs": [],
      "source": [
        "\n",
        "# Evaluate model performance\n",
        "mse = mean_squared_error(y_test[0], predictions[:, 0])\n",
        "mae = mean_absolute_error(y_test[0], predictions[:, 0])\n"
      ]
    },
    {
      "cell_type": "code",
      "execution_count": null,
      "id": "6402f1ba-7640-460a-b2a8-be7330df63ca",
      "metadata": {
        "id": "6402f1ba-7640-460a-b2a8-be7330df63ca"
      },
      "outputs": [],
      "source": [
        "print(\"Mean Squared Error:\", mse)\n",
        "print(\"Mean Absolute Error:\", mae)\n"
      ]
    },
    {
      "cell_type": "code",
      "execution_count": null,
      "id": "0d785e4e-5439-4af3-894c-21b6c62833bd",
      "metadata": {
        "scrolled": true,
        "id": "0d785e4e-5439-4af3-894c-21b6c62833bd"
      },
      "outputs": [],
      "source": [
        "# Visualize predictions vs actual prices\n",
        "plt.figure(figsize=(14, 6))\n",
        "plt.plot(y_test[0], label='Actual Prices')\n",
        "plt.plot(predictions[:, 0], label='Predicted Prices')\n",
        "plt.title('Actual vs Predicted Prices')\n",
        "plt.xlabel('Time')\n",
        "plt.ylabel('Price')\n",
        "plt.legend()\n",
        "plt.show()"
      ]
    },
    {
      "cell_type": "code",
      "execution_count": null,
      "id": "1b64bace-3dfe-4585-ac3a-eed177ee69fd",
      "metadata": {
        "id": "1b64bace-3dfe-4585-ac3a-eed177ee69fd"
      },
      "outputs": [],
      "source": []
    }
  ],
  "metadata": {
    "kernelspec": {
      "display_name": "Python 3 (ipykernel)",
      "language": "python",
      "name": "python3"
    },
    "language_info": {
      "codemirror_mode": {
        "name": "ipython",
        "version": 3
      },
      "file_extension": ".py",
      "mimetype": "text/x-python",
      "name": "python",
      "nbconvert_exporter": "python",
      "pygments_lexer": "ipython3",
      "version": "3.10.4"
    },
    "colab": {
      "provenance": []
    }
  },
  "nbformat": 4,
  "nbformat_minor": 5
}