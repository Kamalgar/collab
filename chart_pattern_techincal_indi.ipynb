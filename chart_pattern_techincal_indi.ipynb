{
  "cells": [
    {
      "cell_type": "markdown",
      "metadata": {
        "id": "view-in-github",
        "colab_type": "text"
      },
      "source": [
        "<a href=\"https://colab.research.google.com/github/Kamalgar/collab/blob/master/chart_pattern_techincal_indi.ipynb\" target=\"_parent\"><img src=\"https://colab.research.google.com/assets/colab-badge.svg\" alt=\"Open In Colab\"/></a>"
      ]
    },
    {
      "cell_type": "code",
      "execution_count": 1,
      "id": "8c2f1386-dd71-4384-9d50-7a07491a2a12",
      "metadata": {
        "editable": true,
        "tags": [],
        "id": "8c2f1386-dd71-4384-9d50-7a07491a2a12",
        "outputId": "1c1779d2-271a-4eac-f681-60e154819d2e",
        "colab": {
          "base_uri": "https://localhost:8080/"
        }
      },
      "outputs": [
        {
          "output_type": "stream",
          "name": "stdout",
          "text": [
            "Requirement already satisfied: yfinance in /usr/local/lib/python3.11/dist-packages (0.2.54)\n",
            "\u001b[31mERROR: Could not find a version that satisfies the requirement as (from versions: none)\u001b[0m\u001b[31m\n",
            "\u001b[0m\u001b[31mERROR: No matching distribution found for as\u001b[0m\u001b[31m\n",
            "\u001b[0mCollecting mplfinance\n",
            "  Downloading mplfinance-0.12.10b0-py3-none-any.whl.metadata (19 kB)\n",
            "Requirement already satisfied: matplotlib in /usr/local/lib/python3.11/dist-packages (from mplfinance) (3.10.0)\n",
            "Requirement already satisfied: pandas in /usr/local/lib/python3.11/dist-packages (from mplfinance) (2.2.2)\n",
            "Requirement already satisfied: contourpy>=1.0.1 in /usr/local/lib/python3.11/dist-packages (from matplotlib->mplfinance) (1.3.1)\n",
            "Requirement already satisfied: cycler>=0.10 in /usr/local/lib/python3.11/dist-packages (from matplotlib->mplfinance) (0.12.1)\n",
            "Requirement already satisfied: fonttools>=4.22.0 in /usr/local/lib/python3.11/dist-packages (from matplotlib->mplfinance) (4.56.0)\n",
            "Requirement already satisfied: kiwisolver>=1.3.1 in /usr/local/lib/python3.11/dist-packages (from matplotlib->mplfinance) (1.4.8)\n",
            "Requirement already satisfied: numpy>=1.23 in /usr/local/lib/python3.11/dist-packages (from matplotlib->mplfinance) (1.26.4)\n",
            "Requirement already satisfied: packaging>=20.0 in /usr/local/lib/python3.11/dist-packages (from matplotlib->mplfinance) (24.2)\n",
            "Requirement already satisfied: pillow>=8 in /usr/local/lib/python3.11/dist-packages (from matplotlib->mplfinance) (11.1.0)\n",
            "Requirement already satisfied: pyparsing>=2.3.1 in /usr/local/lib/python3.11/dist-packages (from matplotlib->mplfinance) (3.2.1)\n",
            "Requirement already satisfied: python-dateutil>=2.7 in /usr/local/lib/python3.11/dist-packages (from matplotlib->mplfinance) (2.8.2)\n",
            "Requirement already satisfied: pytz>=2020.1 in /usr/local/lib/python3.11/dist-packages (from pandas->mplfinance) (2025.1)\n",
            "Requirement already satisfied: tzdata>=2022.7 in /usr/local/lib/python3.11/dist-packages (from pandas->mplfinance) (2025.1)\n",
            "Requirement already satisfied: six>=1.5 in /usr/local/lib/python3.11/dist-packages (from python-dateutil>=2.7->matplotlib->mplfinance) (1.17.0)\n",
            "Downloading mplfinance-0.12.10b0-py3-none-any.whl (75 kB)\n",
            "\u001b[2K   \u001b[90m━━━━━━━━━━━━━━━━━━━━━━━━━━━━━━━━━━━━━━━━\u001b[0m \u001b[32m75.0/75.0 kB\u001b[0m \u001b[31m3.5 MB/s\u001b[0m eta \u001b[36m0:00:00\u001b[0m\n",
            "\u001b[?25hInstalling collected packages: mplfinance\n",
            "Successfully installed mplfinance-0.12.10b0\n"
          ]
        }
      ],
      "source": [
        "!pip install yfinance as yfinance\n",
        "!pip install mplfinance"
      ]
    },
    {
      "cell_type": "code",
      "execution_count": 2,
      "id": "8bd93d8d-52bb-42b8-bfa0-6827f413a84e",
      "metadata": {
        "id": "8bd93d8d-52bb-42b8-bfa0-6827f413a84e"
      },
      "outputs": [],
      "source": [
        "import yfinance as yf\n",
        "\n",
        "import numpy as np\n",
        "import pandas as pd\n",
        "import matplotlib as mpl\n",
        "import matplotlib.pyplot as plt\n",
        "import matplotlib.style as style\n",
        "from matplotlib.dates import date2num, DateFormatter, WeekdayLocator,\\\n",
        "    DayLocator, MONDAY\n",
        "import seaborn as sns\n",
        "\n",
        "import mplfinance as mpf\n",
        "from mplfinance.original_flavor import candlestick_ohlc\n",
        "\n",
        "from scipy import stats\n",
        "from scipy.stats import zscore\n",
        "from statsmodels.tsa.stattools import adfuller\n",
        "from statsmodels.tsa.stattools import coint\n",
        "\n",
        "import datetime\n",
        "from datetime import date, timedelta\n",
        "\n",
        "import warnings\n",
        "warnings.filterwarnings('ignore')\n",
        "\n",
        "%matplotlib inline"
      ]
    },
    {
      "cell_type": "code",
      "execution_count": 3,
      "id": "8c98c658-b906-42dc-9908-5904694939e5",
      "metadata": {
        "id": "8c98c658-b906-42dc-9908-5904694939e5",
        "outputId": "64417ece-3a6b-4351-8601-8ee1494d2ede",
        "colab": {
          "base_uri": "https://localhost:8080/"
        }
      },
      "outputs": [
        {
          "output_type": "stream",
          "name": "stdout",
          "text": [
            "YF.download() has changed argument auto_adjust default to True\n"
          ]
        },
        {
          "output_type": "stream",
          "name": "stderr",
          "text": [
            "[*********************100%***********************]  6 of 6 completed\n",
            "ERROR:yfinance:\n",
            "1 Failed download:\n",
            "ERROR:yfinance:['JIOFIN.NS']: YFPricesMissingError('possibly delisted; no price data found  (1d 2010-01-01 00:00:00 -> 2020-01-01 00:00:00) (Yahoo error = \"Data doesn\\'t exist for startDate = 1262284200, endDate = 1577817000\")')\n"
          ]
        }
      ],
      "source": [
        "import pandas as pd\n",
        "import yfinance as yf\n",
        "import datetime\n",
        "\n",
        "# Downloading FTSE100 stocks data\n",
        "aqr_stocks = yf.download(\" AZN.L GSK.L SBIN.NS JIOFIN.NS AXS AZN.L  PANW\", start=datetime.datetime(2010, 1, 1),\n",
        "                             end=datetime.datetime(2020,1,1), group_by='tickers')\n",
        "\n",
        "# Save DataFrame to a pickle file\n",
        "aqr_stocks.to_pickle('aqr_stocks.pkl')\n",
        "\n",
        "\n",
        "# Save DataFrame to a pickle file\n",
        "aqr_stocks.to_pickle('aqr_stocks.pkl')\n"
      ]
    },
    {
      "cell_type": "code",
      "execution_count": 4,
      "id": "26f33187-147a-49c5-99a7-c388279de87b",
      "metadata": {
        "id": "26f33187-147a-49c5-99a7-c388279de87b",
        "outputId": "050dce8c-4ccf-449d-c404-90795fc9efe6",
        "colab": {
          "base_uri": "https://localhost:8080/",
          "height": 422
        }
      },
      "outputs": [
        {
          "output_type": "execute_result",
          "data": {
            "text/plain": [
              "Ticker            GSK.L                                                     \\\n",
              "Price              Open         High          Low        Close      Volume   \n",
              "Date                                                                         \n",
              "2010-01-04  1322.619311  1337.093140  1316.130843  1337.093140   5328769.0   \n",
              "2010-01-05  1338.590729  1338.590729  1301.158138  1304.651733   7762557.0   \n",
              "2010-01-06  1303.154674  1316.630457  1292.174437  1293.172607   6528508.0   \n",
              "2010-01-07  1295.668035  1304.651809  1286.684260  1291.176147  11789537.0   \n",
              "2010-01-08  1291.176098  1298.163531  1274.705685  1278.698486  13860905.0   \n",
              "\n",
              "Ticker     JIOFIN.NS                           ... PANW                        \\\n",
              "Price           Open High Low Close Adj Close  ... Open High Low Close Volume   \n",
              "Date                                           ...                              \n",
              "2010-01-04       NaN  NaN NaN   NaN       NaN  ...  NaN  NaN NaN   NaN    NaN   \n",
              "2010-01-05       NaN  NaN NaN   NaN       NaN  ...  NaN  NaN NaN   NaN    NaN   \n",
              "2010-01-06       NaN  NaN NaN   NaN       NaN  ...  NaN  NaN NaN   NaN    NaN   \n",
              "2010-01-07       NaN  NaN NaN   NaN       NaN  ...  NaN  NaN NaN   NaN    NaN   \n",
              "2010-01-08       NaN  NaN NaN   NaN       NaN  ...  NaN  NaN NaN   NaN    NaN   \n",
              "\n",
              "Ticker         SBIN.NS                                                  \n",
              "Price             Open        High         Low       Close      Volume  \n",
              "Date                                                                    \n",
              "2010-01-04  191.127791  193.228096  191.127791  192.488785  11031470.0  \n",
              "2010-01-05  193.900207  194.068229  191.556259  192.560211  11613740.0  \n",
              "2010-01-06  192.976097  194.488319  191.967952  193.715408  14527930.0  \n",
              "2010-01-07  193.732193  194.068237  191.640284  192.631622   8576510.0  \n",
              "2010-01-08  192.724048  193.555774  191.556279  192.056152  10453820.0  \n",
              "\n",
              "[5 rows x 31 columns]"
            ],
            "text/html": [
              "\n",
              "  <div id=\"df-776caeb0-d15e-4035-bb00-0398fefbc76d\" class=\"colab-df-container\">\n",
              "    <div>\n",
              "<style scoped>\n",
              "    .dataframe tbody tr th:only-of-type {\n",
              "        vertical-align: middle;\n",
              "    }\n",
              "\n",
              "    .dataframe tbody tr th {\n",
              "        vertical-align: top;\n",
              "    }\n",
              "\n",
              "    .dataframe thead tr th {\n",
              "        text-align: left;\n",
              "    }\n",
              "\n",
              "    .dataframe thead tr:last-of-type th {\n",
              "        text-align: right;\n",
              "    }\n",
              "</style>\n",
              "<table border=\"1\" class=\"dataframe\">\n",
              "  <thead>\n",
              "    <tr>\n",
              "      <th>Ticker</th>\n",
              "      <th colspan=\"5\" halign=\"left\">GSK.L</th>\n",
              "      <th colspan=\"5\" halign=\"left\">JIOFIN.NS</th>\n",
              "      <th>...</th>\n",
              "      <th colspan=\"5\" halign=\"left\">PANW</th>\n",
              "      <th colspan=\"5\" halign=\"left\">SBIN.NS</th>\n",
              "    </tr>\n",
              "    <tr>\n",
              "      <th>Price</th>\n",
              "      <th>Open</th>\n",
              "      <th>High</th>\n",
              "      <th>Low</th>\n",
              "      <th>Close</th>\n",
              "      <th>Volume</th>\n",
              "      <th>Open</th>\n",
              "      <th>High</th>\n",
              "      <th>Low</th>\n",
              "      <th>Close</th>\n",
              "      <th>Adj Close</th>\n",
              "      <th>...</th>\n",
              "      <th>Open</th>\n",
              "      <th>High</th>\n",
              "      <th>Low</th>\n",
              "      <th>Close</th>\n",
              "      <th>Volume</th>\n",
              "      <th>Open</th>\n",
              "      <th>High</th>\n",
              "      <th>Low</th>\n",
              "      <th>Close</th>\n",
              "      <th>Volume</th>\n",
              "    </tr>\n",
              "    <tr>\n",
              "      <th>Date</th>\n",
              "      <th></th>\n",
              "      <th></th>\n",
              "      <th></th>\n",
              "      <th></th>\n",
              "      <th></th>\n",
              "      <th></th>\n",
              "      <th></th>\n",
              "      <th></th>\n",
              "      <th></th>\n",
              "      <th></th>\n",
              "      <th></th>\n",
              "      <th></th>\n",
              "      <th></th>\n",
              "      <th></th>\n",
              "      <th></th>\n",
              "      <th></th>\n",
              "      <th></th>\n",
              "      <th></th>\n",
              "      <th></th>\n",
              "      <th></th>\n",
              "      <th></th>\n",
              "    </tr>\n",
              "  </thead>\n",
              "  <tbody>\n",
              "    <tr>\n",
              "      <th>2010-01-04</th>\n",
              "      <td>1322.619311</td>\n",
              "      <td>1337.093140</td>\n",
              "      <td>1316.130843</td>\n",
              "      <td>1337.093140</td>\n",
              "      <td>5328769.0</td>\n",
              "      <td>NaN</td>\n",
              "      <td>NaN</td>\n",
              "      <td>NaN</td>\n",
              "      <td>NaN</td>\n",
              "      <td>NaN</td>\n",
              "      <td>...</td>\n",
              "      <td>NaN</td>\n",
              "      <td>NaN</td>\n",
              "      <td>NaN</td>\n",
              "      <td>NaN</td>\n",
              "      <td>NaN</td>\n",
              "      <td>191.127791</td>\n",
              "      <td>193.228096</td>\n",
              "      <td>191.127791</td>\n",
              "      <td>192.488785</td>\n",
              "      <td>11031470.0</td>\n",
              "    </tr>\n",
              "    <tr>\n",
              "      <th>2010-01-05</th>\n",
              "      <td>1338.590729</td>\n",
              "      <td>1338.590729</td>\n",
              "      <td>1301.158138</td>\n",
              "      <td>1304.651733</td>\n",
              "      <td>7762557.0</td>\n",
              "      <td>NaN</td>\n",
              "      <td>NaN</td>\n",
              "      <td>NaN</td>\n",
              "      <td>NaN</td>\n",
              "      <td>NaN</td>\n",
              "      <td>...</td>\n",
              "      <td>NaN</td>\n",
              "      <td>NaN</td>\n",
              "      <td>NaN</td>\n",
              "      <td>NaN</td>\n",
              "      <td>NaN</td>\n",
              "      <td>193.900207</td>\n",
              "      <td>194.068229</td>\n",
              "      <td>191.556259</td>\n",
              "      <td>192.560211</td>\n",
              "      <td>11613740.0</td>\n",
              "    </tr>\n",
              "    <tr>\n",
              "      <th>2010-01-06</th>\n",
              "      <td>1303.154674</td>\n",
              "      <td>1316.630457</td>\n",
              "      <td>1292.174437</td>\n",
              "      <td>1293.172607</td>\n",
              "      <td>6528508.0</td>\n",
              "      <td>NaN</td>\n",
              "      <td>NaN</td>\n",
              "      <td>NaN</td>\n",
              "      <td>NaN</td>\n",
              "      <td>NaN</td>\n",
              "      <td>...</td>\n",
              "      <td>NaN</td>\n",
              "      <td>NaN</td>\n",
              "      <td>NaN</td>\n",
              "      <td>NaN</td>\n",
              "      <td>NaN</td>\n",
              "      <td>192.976097</td>\n",
              "      <td>194.488319</td>\n",
              "      <td>191.967952</td>\n",
              "      <td>193.715408</td>\n",
              "      <td>14527930.0</td>\n",
              "    </tr>\n",
              "    <tr>\n",
              "      <th>2010-01-07</th>\n",
              "      <td>1295.668035</td>\n",
              "      <td>1304.651809</td>\n",
              "      <td>1286.684260</td>\n",
              "      <td>1291.176147</td>\n",
              "      <td>11789537.0</td>\n",
              "      <td>NaN</td>\n",
              "      <td>NaN</td>\n",
              "      <td>NaN</td>\n",
              "      <td>NaN</td>\n",
              "      <td>NaN</td>\n",
              "      <td>...</td>\n",
              "      <td>NaN</td>\n",
              "      <td>NaN</td>\n",
              "      <td>NaN</td>\n",
              "      <td>NaN</td>\n",
              "      <td>NaN</td>\n",
              "      <td>193.732193</td>\n",
              "      <td>194.068237</td>\n",
              "      <td>191.640284</td>\n",
              "      <td>192.631622</td>\n",
              "      <td>8576510.0</td>\n",
              "    </tr>\n",
              "    <tr>\n",
              "      <th>2010-01-08</th>\n",
              "      <td>1291.176098</td>\n",
              "      <td>1298.163531</td>\n",
              "      <td>1274.705685</td>\n",
              "      <td>1278.698486</td>\n",
              "      <td>13860905.0</td>\n",
              "      <td>NaN</td>\n",
              "      <td>NaN</td>\n",
              "      <td>NaN</td>\n",
              "      <td>NaN</td>\n",
              "      <td>NaN</td>\n",
              "      <td>...</td>\n",
              "      <td>NaN</td>\n",
              "      <td>NaN</td>\n",
              "      <td>NaN</td>\n",
              "      <td>NaN</td>\n",
              "      <td>NaN</td>\n",
              "      <td>192.724048</td>\n",
              "      <td>193.555774</td>\n",
              "      <td>191.556279</td>\n",
              "      <td>192.056152</td>\n",
              "      <td>10453820.0</td>\n",
              "    </tr>\n",
              "  </tbody>\n",
              "</table>\n",
              "<p>5 rows × 31 columns</p>\n",
              "</div>\n",
              "    <div class=\"colab-df-buttons\">\n",
              "\n",
              "  <div class=\"colab-df-container\">\n",
              "    <button class=\"colab-df-convert\" onclick=\"convertToInteractive('df-776caeb0-d15e-4035-bb00-0398fefbc76d')\"\n",
              "            title=\"Convert this dataframe to an interactive table.\"\n",
              "            style=\"display:none;\">\n",
              "\n",
              "  <svg xmlns=\"http://www.w3.org/2000/svg\" height=\"24px\" viewBox=\"0 -960 960 960\">\n",
              "    <path d=\"M120-120v-720h720v720H120Zm60-500h600v-160H180v160Zm220 220h160v-160H400v160Zm0 220h160v-160H400v160ZM180-400h160v-160H180v160Zm440 0h160v-160H620v160ZM180-180h160v-160H180v160Zm440 0h160v-160H620v160Z\"/>\n",
              "  </svg>\n",
              "    </button>\n",
              "\n",
              "  <style>\n",
              "    .colab-df-container {\n",
              "      display:flex;\n",
              "      gap: 12px;\n",
              "    }\n",
              "\n",
              "    .colab-df-convert {\n",
              "      background-color: #E8F0FE;\n",
              "      border: none;\n",
              "      border-radius: 50%;\n",
              "      cursor: pointer;\n",
              "      display: none;\n",
              "      fill: #1967D2;\n",
              "      height: 32px;\n",
              "      padding: 0 0 0 0;\n",
              "      width: 32px;\n",
              "    }\n",
              "\n",
              "    .colab-df-convert:hover {\n",
              "      background-color: #E2EBFA;\n",
              "      box-shadow: 0px 1px 2px rgba(60, 64, 67, 0.3), 0px 1px 3px 1px rgba(60, 64, 67, 0.15);\n",
              "      fill: #174EA6;\n",
              "    }\n",
              "\n",
              "    .colab-df-buttons div {\n",
              "      margin-bottom: 4px;\n",
              "    }\n",
              "\n",
              "    [theme=dark] .colab-df-convert {\n",
              "      background-color: #3B4455;\n",
              "      fill: #D2E3FC;\n",
              "    }\n",
              "\n",
              "    [theme=dark] .colab-df-convert:hover {\n",
              "      background-color: #434B5C;\n",
              "      box-shadow: 0px 1px 3px 1px rgba(0, 0, 0, 0.15);\n",
              "      filter: drop-shadow(0px 1px 2px rgba(0, 0, 0, 0.3));\n",
              "      fill: #FFFFFF;\n",
              "    }\n",
              "  </style>\n",
              "\n",
              "    <script>\n",
              "      const buttonEl =\n",
              "        document.querySelector('#df-776caeb0-d15e-4035-bb00-0398fefbc76d button.colab-df-convert');\n",
              "      buttonEl.style.display =\n",
              "        google.colab.kernel.accessAllowed ? 'block' : 'none';\n",
              "\n",
              "      async function convertToInteractive(key) {\n",
              "        const element = document.querySelector('#df-776caeb0-d15e-4035-bb00-0398fefbc76d');\n",
              "        const dataTable =\n",
              "          await google.colab.kernel.invokeFunction('convertToInteractive',\n",
              "                                                    [key], {});\n",
              "        if (!dataTable) return;\n",
              "\n",
              "        const docLinkHtml = 'Like what you see? Visit the ' +\n",
              "          '<a target=\"_blank\" href=https://colab.research.google.com/notebooks/data_table.ipynb>data table notebook</a>'\n",
              "          + ' to learn more about interactive tables.';\n",
              "        element.innerHTML = '';\n",
              "        dataTable['output_type'] = 'display_data';\n",
              "        await google.colab.output.renderOutput(dataTable, element);\n",
              "        const docLink = document.createElement('div');\n",
              "        docLink.innerHTML = docLinkHtml;\n",
              "        element.appendChild(docLink);\n",
              "      }\n",
              "    </script>\n",
              "  </div>\n",
              "\n",
              "\n",
              "<div id=\"df-fb252d97-dd64-49df-9c2d-bb2236feb0e2\">\n",
              "  <button class=\"colab-df-quickchart\" onclick=\"quickchart('df-fb252d97-dd64-49df-9c2d-bb2236feb0e2')\"\n",
              "            title=\"Suggest charts\"\n",
              "            style=\"display:none;\">\n",
              "\n",
              "<svg xmlns=\"http://www.w3.org/2000/svg\" height=\"24px\"viewBox=\"0 0 24 24\"\n",
              "     width=\"24px\">\n",
              "    <g>\n",
              "        <path d=\"M19 3H5c-1.1 0-2 .9-2 2v14c0 1.1.9 2 2 2h14c1.1 0 2-.9 2-2V5c0-1.1-.9-2-2-2zM9 17H7v-7h2v7zm4 0h-2V7h2v10zm4 0h-2v-4h2v4z\"/>\n",
              "    </g>\n",
              "</svg>\n",
              "  </button>\n",
              "\n",
              "<style>\n",
              "  .colab-df-quickchart {\n",
              "      --bg-color: #E8F0FE;\n",
              "      --fill-color: #1967D2;\n",
              "      --hover-bg-color: #E2EBFA;\n",
              "      --hover-fill-color: #174EA6;\n",
              "      --disabled-fill-color: #AAA;\n",
              "      --disabled-bg-color: #DDD;\n",
              "  }\n",
              "\n",
              "  [theme=dark] .colab-df-quickchart {\n",
              "      --bg-color: #3B4455;\n",
              "      --fill-color: #D2E3FC;\n",
              "      --hover-bg-color: #434B5C;\n",
              "      --hover-fill-color: #FFFFFF;\n",
              "      --disabled-bg-color: #3B4455;\n",
              "      --disabled-fill-color: #666;\n",
              "  }\n",
              "\n",
              "  .colab-df-quickchart {\n",
              "    background-color: var(--bg-color);\n",
              "    border: none;\n",
              "    border-radius: 50%;\n",
              "    cursor: pointer;\n",
              "    display: none;\n",
              "    fill: var(--fill-color);\n",
              "    height: 32px;\n",
              "    padding: 0;\n",
              "    width: 32px;\n",
              "  }\n",
              "\n",
              "  .colab-df-quickchart:hover {\n",
              "    background-color: var(--hover-bg-color);\n",
              "    box-shadow: 0 1px 2px rgba(60, 64, 67, 0.3), 0 1px 3px 1px rgba(60, 64, 67, 0.15);\n",
              "    fill: var(--button-hover-fill-color);\n",
              "  }\n",
              "\n",
              "  .colab-df-quickchart-complete:disabled,\n",
              "  .colab-df-quickchart-complete:disabled:hover {\n",
              "    background-color: var(--disabled-bg-color);\n",
              "    fill: var(--disabled-fill-color);\n",
              "    box-shadow: none;\n",
              "  }\n",
              "\n",
              "  .colab-df-spinner {\n",
              "    border: 2px solid var(--fill-color);\n",
              "    border-color: transparent;\n",
              "    border-bottom-color: var(--fill-color);\n",
              "    animation:\n",
              "      spin 1s steps(1) infinite;\n",
              "  }\n",
              "\n",
              "  @keyframes spin {\n",
              "    0% {\n",
              "      border-color: transparent;\n",
              "      border-bottom-color: var(--fill-color);\n",
              "      border-left-color: var(--fill-color);\n",
              "    }\n",
              "    20% {\n",
              "      border-color: transparent;\n",
              "      border-left-color: var(--fill-color);\n",
              "      border-top-color: var(--fill-color);\n",
              "    }\n",
              "    30% {\n",
              "      border-color: transparent;\n",
              "      border-left-color: var(--fill-color);\n",
              "      border-top-color: var(--fill-color);\n",
              "      border-right-color: var(--fill-color);\n",
              "    }\n",
              "    40% {\n",
              "      border-color: transparent;\n",
              "      border-right-color: var(--fill-color);\n",
              "      border-top-color: var(--fill-color);\n",
              "    }\n",
              "    60% {\n",
              "      border-color: transparent;\n",
              "      border-right-color: var(--fill-color);\n",
              "    }\n",
              "    80% {\n",
              "      border-color: transparent;\n",
              "      border-right-color: var(--fill-color);\n",
              "      border-bottom-color: var(--fill-color);\n",
              "    }\n",
              "    90% {\n",
              "      border-color: transparent;\n",
              "      border-bottom-color: var(--fill-color);\n",
              "    }\n",
              "  }\n",
              "</style>\n",
              "\n",
              "  <script>\n",
              "    async function quickchart(key) {\n",
              "      const quickchartButtonEl =\n",
              "        document.querySelector('#' + key + ' button');\n",
              "      quickchartButtonEl.disabled = true;  // To prevent multiple clicks.\n",
              "      quickchartButtonEl.classList.add('colab-df-spinner');\n",
              "      try {\n",
              "        const charts = await google.colab.kernel.invokeFunction(\n",
              "            'suggestCharts', [key], {});\n",
              "      } catch (error) {\n",
              "        console.error('Error during call to suggestCharts:', error);\n",
              "      }\n",
              "      quickchartButtonEl.classList.remove('colab-df-spinner');\n",
              "      quickchartButtonEl.classList.add('colab-df-quickchart-complete');\n",
              "    }\n",
              "    (() => {\n",
              "      let quickchartButtonEl =\n",
              "        document.querySelector('#df-fb252d97-dd64-49df-9c2d-bb2236feb0e2 button');\n",
              "      quickchartButtonEl.style.display =\n",
              "        google.colab.kernel.accessAllowed ? 'block' : 'none';\n",
              "    })();\n",
              "  </script>\n",
              "</div>\n",
              "\n",
              "    </div>\n",
              "  </div>\n"
            ],
            "application/vnd.google.colaboratory.intrinsic+json": {
              "type": "dataframe",
              "variable_name": "aqr_stocks"
            }
          },
          "metadata": {},
          "execution_count": 4
        }
      ],
      "source": [
        "\n",
        "aqr_stocks.head()"
      ]
    },
    {
      "cell_type": "code",
      "execution_count": 5,
      "id": "65390a0f-411c-419d-9c8d-d65b2e855c56",
      "metadata": {
        "id": "65390a0f-411c-419d-9c8d-d65b2e855c56",
        "outputId": "c294177a-70dc-4ffb-a84e-a922242cc126",
        "colab": {
          "base_uri": "https://localhost:8080/",
          "height": 237
        }
      },
      "outputs": [
        {
          "output_type": "execute_result",
          "data": {
            "text/plain": [
              "Price              Open         High          Low        Close     Volume\n",
              "Date                                                                     \n",
              "2010-01-04  2894.438804  2928.233763  2894.438804  2923.263916  2091679.0\n",
              "2010-01-05  2918.293946  2931.712532  2883.505020  2889.965820  2869739.0\n",
              "2010-01-06  2891.456823  2891.456823  2833.309616  2857.661865  3136541.0\n",
              "2010-01-07  2861.637478  2907.857049  2861.637478  2892.947510  3748200.0\n",
              "2010-01-08  2903.384088  2909.844888  2872.074058  2890.959473  2473846.0"
            ],
            "text/html": [
              "\n",
              "  <div id=\"df-d43235de-bd2b-4e1e-b94e-262be118702a\" class=\"colab-df-container\">\n",
              "    <div>\n",
              "<style scoped>\n",
              "    .dataframe tbody tr th:only-of-type {\n",
              "        vertical-align: middle;\n",
              "    }\n",
              "\n",
              "    .dataframe tbody tr th {\n",
              "        vertical-align: top;\n",
              "    }\n",
              "\n",
              "    .dataframe thead th {\n",
              "        text-align: right;\n",
              "    }\n",
              "</style>\n",
              "<table border=\"1\" class=\"dataframe\">\n",
              "  <thead>\n",
              "    <tr style=\"text-align: right;\">\n",
              "      <th>Price</th>\n",
              "      <th>Open</th>\n",
              "      <th>High</th>\n",
              "      <th>Low</th>\n",
              "      <th>Close</th>\n",
              "      <th>Volume</th>\n",
              "    </tr>\n",
              "    <tr>\n",
              "      <th>Date</th>\n",
              "      <th></th>\n",
              "      <th></th>\n",
              "      <th></th>\n",
              "      <th></th>\n",
              "      <th></th>\n",
              "    </tr>\n",
              "  </thead>\n",
              "  <tbody>\n",
              "    <tr>\n",
              "      <th>2010-01-04</th>\n",
              "      <td>2894.438804</td>\n",
              "      <td>2928.233763</td>\n",
              "      <td>2894.438804</td>\n",
              "      <td>2923.263916</td>\n",
              "      <td>2091679.0</td>\n",
              "    </tr>\n",
              "    <tr>\n",
              "      <th>2010-01-05</th>\n",
              "      <td>2918.293946</td>\n",
              "      <td>2931.712532</td>\n",
              "      <td>2883.505020</td>\n",
              "      <td>2889.965820</td>\n",
              "      <td>2869739.0</td>\n",
              "    </tr>\n",
              "    <tr>\n",
              "      <th>2010-01-06</th>\n",
              "      <td>2891.456823</td>\n",
              "      <td>2891.456823</td>\n",
              "      <td>2833.309616</td>\n",
              "      <td>2857.661865</td>\n",
              "      <td>3136541.0</td>\n",
              "    </tr>\n",
              "    <tr>\n",
              "      <th>2010-01-07</th>\n",
              "      <td>2861.637478</td>\n",
              "      <td>2907.857049</td>\n",
              "      <td>2861.637478</td>\n",
              "      <td>2892.947510</td>\n",
              "      <td>3748200.0</td>\n",
              "    </tr>\n",
              "    <tr>\n",
              "      <th>2010-01-08</th>\n",
              "      <td>2903.384088</td>\n",
              "      <td>2909.844888</td>\n",
              "      <td>2872.074058</td>\n",
              "      <td>2890.959473</td>\n",
              "      <td>2473846.0</td>\n",
              "    </tr>\n",
              "  </tbody>\n",
              "</table>\n",
              "</div>\n",
              "    <div class=\"colab-df-buttons\">\n",
              "\n",
              "  <div class=\"colab-df-container\">\n",
              "    <button class=\"colab-df-convert\" onclick=\"convertToInteractive('df-d43235de-bd2b-4e1e-b94e-262be118702a')\"\n",
              "            title=\"Convert this dataframe to an interactive table.\"\n",
              "            style=\"display:none;\">\n",
              "\n",
              "  <svg xmlns=\"http://www.w3.org/2000/svg\" height=\"24px\" viewBox=\"0 -960 960 960\">\n",
              "    <path d=\"M120-120v-720h720v720H120Zm60-500h600v-160H180v160Zm220 220h160v-160H400v160Zm0 220h160v-160H400v160ZM180-400h160v-160H180v160Zm440 0h160v-160H620v160ZM180-180h160v-160H180v160Zm440 0h160v-160H620v160Z\"/>\n",
              "  </svg>\n",
              "    </button>\n",
              "\n",
              "  <style>\n",
              "    .colab-df-container {\n",
              "      display:flex;\n",
              "      gap: 12px;\n",
              "    }\n",
              "\n",
              "    .colab-df-convert {\n",
              "      background-color: #E8F0FE;\n",
              "      border: none;\n",
              "      border-radius: 50%;\n",
              "      cursor: pointer;\n",
              "      display: none;\n",
              "      fill: #1967D2;\n",
              "      height: 32px;\n",
              "      padding: 0 0 0 0;\n",
              "      width: 32px;\n",
              "    }\n",
              "\n",
              "    .colab-df-convert:hover {\n",
              "      background-color: #E2EBFA;\n",
              "      box-shadow: 0px 1px 2px rgba(60, 64, 67, 0.3), 0px 1px 3px 1px rgba(60, 64, 67, 0.15);\n",
              "      fill: #174EA6;\n",
              "    }\n",
              "\n",
              "    .colab-df-buttons div {\n",
              "      margin-bottom: 4px;\n",
              "    }\n",
              "\n",
              "    [theme=dark] .colab-df-convert {\n",
              "      background-color: #3B4455;\n",
              "      fill: #D2E3FC;\n",
              "    }\n",
              "\n",
              "    [theme=dark] .colab-df-convert:hover {\n",
              "      background-color: #434B5C;\n",
              "      box-shadow: 0px 1px 3px 1px rgba(0, 0, 0, 0.15);\n",
              "      filter: drop-shadow(0px 1px 2px rgba(0, 0, 0, 0.3));\n",
              "      fill: #FFFFFF;\n",
              "    }\n",
              "  </style>\n",
              "\n",
              "    <script>\n",
              "      const buttonEl =\n",
              "        document.querySelector('#df-d43235de-bd2b-4e1e-b94e-262be118702a button.colab-df-convert');\n",
              "      buttonEl.style.display =\n",
              "        google.colab.kernel.accessAllowed ? 'block' : 'none';\n",
              "\n",
              "      async function convertToInteractive(key) {\n",
              "        const element = document.querySelector('#df-d43235de-bd2b-4e1e-b94e-262be118702a');\n",
              "        const dataTable =\n",
              "          await google.colab.kernel.invokeFunction('convertToInteractive',\n",
              "                                                    [key], {});\n",
              "        if (!dataTable) return;\n",
              "\n",
              "        const docLinkHtml = 'Like what you see? Visit the ' +\n",
              "          '<a target=\"_blank\" href=https://colab.research.google.com/notebooks/data_table.ipynb>data table notebook</a>'\n",
              "          + ' to learn more about interactive tables.';\n",
              "        element.innerHTML = '';\n",
              "        dataTable['output_type'] = 'display_data';\n",
              "        await google.colab.output.renderOutput(dataTable, element);\n",
              "        const docLink = document.createElement('div');\n",
              "        docLink.innerHTML = docLinkHtml;\n",
              "        element.appendChild(docLink);\n",
              "      }\n",
              "    </script>\n",
              "  </div>\n",
              "\n",
              "\n",
              "<div id=\"df-1d7990ab-9ad0-4cfd-b9b6-d1e14bdabc1e\">\n",
              "  <button class=\"colab-df-quickchart\" onclick=\"quickchart('df-1d7990ab-9ad0-4cfd-b9b6-d1e14bdabc1e')\"\n",
              "            title=\"Suggest charts\"\n",
              "            style=\"display:none;\">\n",
              "\n",
              "<svg xmlns=\"http://www.w3.org/2000/svg\" height=\"24px\"viewBox=\"0 0 24 24\"\n",
              "     width=\"24px\">\n",
              "    <g>\n",
              "        <path d=\"M19 3H5c-1.1 0-2 .9-2 2v14c0 1.1.9 2 2 2h14c1.1 0 2-.9 2-2V5c0-1.1-.9-2-2-2zM9 17H7v-7h2v7zm4 0h-2V7h2v10zm4 0h-2v-4h2v4z\"/>\n",
              "    </g>\n",
              "</svg>\n",
              "  </button>\n",
              "\n",
              "<style>\n",
              "  .colab-df-quickchart {\n",
              "      --bg-color: #E8F0FE;\n",
              "      --fill-color: #1967D2;\n",
              "      --hover-bg-color: #E2EBFA;\n",
              "      --hover-fill-color: #174EA6;\n",
              "      --disabled-fill-color: #AAA;\n",
              "      --disabled-bg-color: #DDD;\n",
              "  }\n",
              "\n",
              "  [theme=dark] .colab-df-quickchart {\n",
              "      --bg-color: #3B4455;\n",
              "      --fill-color: #D2E3FC;\n",
              "      --hover-bg-color: #434B5C;\n",
              "      --hover-fill-color: #FFFFFF;\n",
              "      --disabled-bg-color: #3B4455;\n",
              "      --disabled-fill-color: #666;\n",
              "  }\n",
              "\n",
              "  .colab-df-quickchart {\n",
              "    background-color: var(--bg-color);\n",
              "    border: none;\n",
              "    border-radius: 50%;\n",
              "    cursor: pointer;\n",
              "    display: none;\n",
              "    fill: var(--fill-color);\n",
              "    height: 32px;\n",
              "    padding: 0;\n",
              "    width: 32px;\n",
              "  }\n",
              "\n",
              "  .colab-df-quickchart:hover {\n",
              "    background-color: var(--hover-bg-color);\n",
              "    box-shadow: 0 1px 2px rgba(60, 64, 67, 0.3), 0 1px 3px 1px rgba(60, 64, 67, 0.15);\n",
              "    fill: var(--button-hover-fill-color);\n",
              "  }\n",
              "\n",
              "  .colab-df-quickchart-complete:disabled,\n",
              "  .colab-df-quickchart-complete:disabled:hover {\n",
              "    background-color: var(--disabled-bg-color);\n",
              "    fill: var(--disabled-fill-color);\n",
              "    box-shadow: none;\n",
              "  }\n",
              "\n",
              "  .colab-df-spinner {\n",
              "    border: 2px solid var(--fill-color);\n",
              "    border-color: transparent;\n",
              "    border-bottom-color: var(--fill-color);\n",
              "    animation:\n",
              "      spin 1s steps(1) infinite;\n",
              "  }\n",
              "\n",
              "  @keyframes spin {\n",
              "    0% {\n",
              "      border-color: transparent;\n",
              "      border-bottom-color: var(--fill-color);\n",
              "      border-left-color: var(--fill-color);\n",
              "    }\n",
              "    20% {\n",
              "      border-color: transparent;\n",
              "      border-left-color: var(--fill-color);\n",
              "      border-top-color: var(--fill-color);\n",
              "    }\n",
              "    30% {\n",
              "      border-color: transparent;\n",
              "      border-left-color: var(--fill-color);\n",
              "      border-top-color: var(--fill-color);\n",
              "      border-right-color: var(--fill-color);\n",
              "    }\n",
              "    40% {\n",
              "      border-color: transparent;\n",
              "      border-right-color: var(--fill-color);\n",
              "      border-top-color: var(--fill-color);\n",
              "    }\n",
              "    60% {\n",
              "      border-color: transparent;\n",
              "      border-right-color: var(--fill-color);\n",
              "    }\n",
              "    80% {\n",
              "      border-color: transparent;\n",
              "      border-right-color: var(--fill-color);\n",
              "      border-bottom-color: var(--fill-color);\n",
              "    }\n",
              "    90% {\n",
              "      border-color: transparent;\n",
              "      border-bottom-color: var(--fill-color);\n",
              "    }\n",
              "  }\n",
              "</style>\n",
              "\n",
              "  <script>\n",
              "    async function quickchart(key) {\n",
              "      const quickchartButtonEl =\n",
              "        document.querySelector('#' + key + ' button');\n",
              "      quickchartButtonEl.disabled = true;  // To prevent multiple clicks.\n",
              "      quickchartButtonEl.classList.add('colab-df-spinner');\n",
              "      try {\n",
              "        const charts = await google.colab.kernel.invokeFunction(\n",
              "            'suggestCharts', [key], {});\n",
              "      } catch (error) {\n",
              "        console.error('Error during call to suggestCharts:', error);\n",
              "      }\n",
              "      quickchartButtonEl.classList.remove('colab-df-spinner');\n",
              "      quickchartButtonEl.classList.add('colab-df-quickchart-complete');\n",
              "    }\n",
              "    (() => {\n",
              "      let quickchartButtonEl =\n",
              "        document.querySelector('#df-1d7990ab-9ad0-4cfd-b9b6-d1e14bdabc1e button');\n",
              "      quickchartButtonEl.style.display =\n",
              "        google.colab.kernel.accessAllowed ? 'block' : 'none';\n",
              "    })();\n",
              "  </script>\n",
              "</div>\n",
              "\n",
              "    </div>\n",
              "  </div>\n"
            ],
            "application/vnd.google.colaboratory.intrinsic+json": {
              "type": "dataframe",
              "variable_name": "azn",
              "summary": "{\n  \"name\": \"azn\",\n  \"rows\": 2591,\n  \"fields\": [\n    {\n      \"column\": \"Date\",\n      \"properties\": {\n        \"dtype\": \"date\",\n        \"min\": \"2010-01-04 00:00:00\",\n        \"max\": \"2019-12-31 00:00:00\",\n        \"num_unique_values\": 2591,\n        \"samples\": [\n          \"2016-01-07 00:00:00\",\n          \"2014-07-02 00:00:00\",\n          \"2019-12-11 00:00:00\"\n        ],\n        \"semantic_type\": \"\",\n        \"description\": \"\"\n      }\n    },\n    {\n      \"column\": \"Open\",\n      \"properties\": {\n        \"dtype\": \"number\",\n        \"std\": 1198.3077148560092,\n        \"min\": 2569.648862337584,\n        \"max\": 7760.542039401889,\n        \"num_unique_values\": 2524,\n        \"samples\": [\n          6446.66004608761,\n          4079.5875990192294,\n          4229.154167096359\n        ],\n        \"semantic_type\": \"\",\n        \"description\": \"\"\n      }\n    },\n    {\n      \"column\": \"High\",\n      \"properties\": {\n        \"dtype\": \"number\",\n        \"std\": 1216.5320954600168,\n        \"min\": 2605.967229607796,\n        \"max\": 8216.81219473336,\n        \"num_unique_values\": 2522,\n        \"samples\": [\n          3312.0583976581324,\n          3507.1054469659994,\n          5729.758333738967\n        ],\n        \"semantic_type\": \"\",\n        \"description\": \"\"\n      }\n    },\n    {\n      \"column\": \"Low\",\n      \"properties\": {\n        \"dtype\": \"number\",\n        \"std\": 1185.0885771679625,\n        \"min\": 2441.788309071222,\n        \"max\": 7713.475582462179,\n        \"num_unique_values\": 2523,\n        \"samples\": [\n          4430.3092334581825,\n          2947.230150422997,\n          2890.047816475669\n        ],\n        \"semantic_type\": \"\",\n        \"description\": \"\"\n      }\n    },\n    {\n      \"column\": \"Close\",\n      \"properties\": {\n        \"dtype\": \"number\",\n        \"std\": 1199.1769579333472,\n        \"min\": 2530.84423828125,\n        \"max\": 7797.4921875,\n        \"num_unique_values\": 2352,\n        \"samples\": [\n          5269.52978515625,\n          2853.445556640625,\n          6262.4609375\n        ],\n        \"semantic_type\": \"\",\n        \"description\": \"\"\n      }\n    },\n    {\n      \"column\": \"Volume\",\n      \"properties\": {\n        \"dtype\": \"number\",\n        \"std\": 1406304.2099068635,\n        \"min\": 0.0,\n        \"max\": 26880809.0,\n        \"num_unique_values\": 2522,\n        \"samples\": [\n          2400482.0,\n          1594361.0,\n          7411943.0\n        ],\n        \"semantic_type\": \"\",\n        \"description\": \"\"\n      }\n    }\n  ]\n}"
            }
          },
          "metadata": {},
          "execution_count": 5
        }
      ],
      "source": [
        "azn =  aqr_stocks['AZN.L']\n",
        "\n",
        "azn.head()"
      ]
    },
    {
      "cell_type": "markdown",
      "id": "20444655-ca81-4f2b-9d01-069c0d60decd",
      "metadata": {
        "id": "20444655-ca81-4f2b-9d01-069c0d60decd"
      },
      "source": [
        "# Visualising stock data"
      ]
    },
    {
      "cell_type": "code",
      "execution_count": 6,
      "id": "e7a06060-f6d3-417e-bde3-4cd781998c26",
      "metadata": {
        "id": "e7a06060-f6d3-417e-bde3-4cd781998c26",
        "outputId": "39ab091a-9bd4-45ae-deb0-77106d7645ee",
        "colab": {
          "base_uri": "https://localhost:8080/"
        }
      },
      "outputs": [
        {
          "output_type": "stream",
          "name": "stdout",
          "text": [
            "Collecting mpl_finance\n",
            "  Downloading mpl_finance-0.10.1-py3-none-any.whl.metadata (3.7 kB)\n",
            "Requirement already satisfied: matplotlib in /usr/local/lib/python3.11/dist-packages (from mpl_finance) (3.10.0)\n",
            "Requirement already satisfied: contourpy>=1.0.1 in /usr/local/lib/python3.11/dist-packages (from matplotlib->mpl_finance) (1.3.1)\n",
            "Requirement already satisfied: cycler>=0.10 in /usr/local/lib/python3.11/dist-packages (from matplotlib->mpl_finance) (0.12.1)\n",
            "Requirement already satisfied: fonttools>=4.22.0 in /usr/local/lib/python3.11/dist-packages (from matplotlib->mpl_finance) (4.56.0)\n",
            "Requirement already satisfied: kiwisolver>=1.3.1 in /usr/local/lib/python3.11/dist-packages (from matplotlib->mpl_finance) (1.4.8)\n",
            "Requirement already satisfied: numpy>=1.23 in /usr/local/lib/python3.11/dist-packages (from matplotlib->mpl_finance) (1.26.4)\n",
            "Requirement already satisfied: packaging>=20.0 in /usr/local/lib/python3.11/dist-packages (from matplotlib->mpl_finance) (24.2)\n",
            "Requirement already satisfied: pillow>=8 in /usr/local/lib/python3.11/dist-packages (from matplotlib->mpl_finance) (11.1.0)\n",
            "Requirement already satisfied: pyparsing>=2.3.1 in /usr/local/lib/python3.11/dist-packages (from matplotlib->mpl_finance) (3.2.1)\n",
            "Requirement already satisfied: python-dateutil>=2.7 in /usr/local/lib/python3.11/dist-packages (from matplotlib->mpl_finance) (2.8.2)\n",
            "Requirement already satisfied: six>=1.5 in /usr/local/lib/python3.11/dist-packages (from python-dateutil>=2.7->matplotlib->mpl_finance) (1.17.0)\n",
            "Downloading mpl_finance-0.10.1-py3-none-any.whl (8.4 kB)\n",
            "Installing collected packages: mpl_finance\n",
            "Successfully installed mpl_finance-0.10.1\n"
          ]
        }
      ],
      "source": [
        "!pip install mpl_finance"
      ]
    },
    {
      "cell_type": "code",
      "execution_count": 7,
      "id": "755d490d-e8bd-4651-b47d-cfce7cfd17de",
      "metadata": {
        "id": "755d490d-e8bd-4651-b47d-cfce7cfd17de"
      },
      "outputs": [],
      "source": [
        "def pandas_candlestick_ohlc(dat, stick=\"day\", otherseries=None):\n",
        "    import pandas as pd\n",
        "    import numpy as np\n",
        "    import matplotlib.pyplot as plt\n",
        "    import matplotlib.dates as mdates\n",
        "    from matplotlib.dates import DateFormatter, WeekdayLocator, DayLocator, date2num\n",
        "    from mpl_finance import candlestick_ohlc  # Updated import\n",
        "    import seaborn as sns\n",
        "\n",
        "    mondays = WeekdayLocator(mdates.MONDAY)\n",
        "    alldays = DayLocator()\n",
        "    dayFormatter = DateFormatter('%d')\n",
        "\n",
        "    # Create a new DataFrame which includes OHLC data for each period specified by stick input\n",
        "    transdat = dat.loc[:,[\"Open\", \"High\", \"Low\", \"Close\"]]\n",
        "    if isinstance(stick, str):\n",
        "        if stick == \"day\":\n",
        "            plotdat = transdat\n",
        "            stick = 1 # Used for plotting\n",
        "        elif stick in [\"week\", \"month\", \"year\"]:\n",
        "            if stick == \"week\":\n",
        "                transdat[\"week\"] = pd.to_datetime(transdat.index).map(lambda x: x.isocalendar()[1]) # Identify weeks\n",
        "            elif stick == \"month\":\n",
        "                transdat[\"month\"] = pd.to_datetime(transdat.index).map(lambda x: x.month) # Identify months\n",
        "            transdat[\"year\"] = pd.to_datetime(transdat.index).map(lambda x: x.isocalendar()[0]) # Identify years\n",
        "            grouped = transdat.groupby(list(set([\"year\",stick]))) # Group by year and other appropriate variable\n",
        "            plotdat_list = []  # Initialize an empty list to store DataFrames\n",
        "            for name, group in grouped:\n",
        "                temp_df = pd.DataFrame({\n",
        "                    \"Open\": group.iloc[0, 0],\n",
        "                    \"High\": max(group.High),\n",
        "                    \"Low\": min(group.Low),\n",
        "                    \"Close\": group.iloc[-1, 3]\n",
        "                }, index=[group.index[0]])\n",
        "                plotdat_list.append(temp_df)\n",
        "\n",
        "            plotdat = pd.concat(plotdat_list)  # Concatenate the list of DataFrames into a single DataFrame\n",
        "\n",
        "            if stick == \"week\":\n",
        "                stick = 5\n",
        "            elif stick == \"month\":\n",
        "                stick = 30\n",
        "            elif stick == \"year\":\n",
        "                stick = 365\n",
        "\n",
        "    elif isinstance(stick, int) and stick >= 1:\n",
        "        transdat[\"stick\"] = np.floor(np.arange(len(transdat.index)) / stick)\n",
        "        grouped = transdat.groupby(\"stick\")\n",
        "        plotdat_list = []  # Initialize an empty list to store DataFrames\n",
        "        for name, group in grouped:\n",
        "            temp_df = pd.DataFrame({\n",
        "                \"Open\": group.iloc[0, 0],\n",
        "                \"High\": max(group.High),\n",
        "                \"Low\": min(group.Low),\n",
        "                \"Close\": group.iloc[-1, 3]\n",
        "            }, index=[group.index[0]])\n",
        "            plotdat_list.append(temp_df)\n",
        "\n",
        "        plotdat = pd.concat(plotdat_list)  # Concatenate the list of DataFrames into a single DataFrame\n",
        "\n",
        "    else:\n",
        "        raise ValueError('Valid inputs to argument \"stick\" include the strings \"day\", \"week\", \"month\", \"year\", or a positive integer')\n",
        "\n",
        "\n",
        "    # Set plot parameters, including the axis object ax used for plotting\n",
        "    fig, ax = plt.subplots()\n",
        "    fig.subplots_adjust(bottom=0.2)\n",
        "    if plotdat.index[-1] - plotdat.index[0] < pd.Timedelta('730 days'):\n",
        "        weekFormatter = DateFormatter('%b %d')  # e.g., Jan 12\n",
        "        ax.xaxis.set_major_locator(mondays)\n",
        "        ax.xaxis.set_minor_locator(alldays)\n",
        "    else:\n",
        "        weekFormatter = DateFormatter('%b %d, %Y')\n",
        "    ax.xaxis.set_major_formatter(weekFormatter)\n",
        "\n",
        "    ax.grid(True)\n",
        "\n",
        "    # Create the candelstick chart\n",
        "    candlestick_ohlc(ax, list(zip(list(date2num(plotdat.index.tolist())), plotdat[\"Open\"].tolist(), plotdat[\"High\"].tolist(),\n",
        "                      plotdat[\"Low\"].tolist(), plotdat[\"Close\"].tolist())),\n",
        "                      colorup=\"green\", colordown=\"red\", width=stick * 0.4)\n",
        "\n",
        "    # Plot other series (such as moving averages) as lines\n",
        "    if otherseries is not None:\n",
        "        if isinstance(otherseries, str):\n",
        "            otherseries = [otherseries]\n",
        "        dat.loc[:, otherseries].plot(ax=ax, lw=1.3, grid=True)\n",
        "\n",
        "    ax.xaxis_date()\n",
        "    ax.autoscale_view()\n",
        "    plt.setp(plt.gca().get_xticklabels(), rotation=45, horizontalalignment='right')\n",
        "    sns.set(rc={'figure.figsize':(20, 10)})\n",
        "    plt.style.use('seaborn-whitegrid')\n",
        "    plt.title(f\"Candlestick chart of {txt}\", color='black', fontsize=20)\n",
        "    plt.xlabel('Date', color='black', fontsize=15)\n",
        "    plt.ylabel('Stock Price (p)', color='black', fontsize=15)\n",
        "\n",
        "    plt.show()"
      ]
    },
    {
      "cell_type": "code",
      "execution_count": 8,
      "id": "12c97560-494e-43ea-b559-d9eb3cf01034",
      "metadata": {
        "id": "12c97560-494e-43ea-b559-d9eb3cf01034",
        "outputId": "62caefbf-081e-4290-a78d-28b22259b4ea",
        "colab": {
          "base_uri": "https://localhost:8080/",
          "height": 852
        }
      },
      "outputs": [
        {
          "output_type": "error",
          "ename": "OSError",
          "evalue": "'seaborn-whitegrid' is not a valid package style, path of style file, URL of style file, or library style name (library styles are listed in `style.available`)",
          "traceback": [
            "\u001b[0;31m---------------------------------------------------------------------------\u001b[0m",
            "\u001b[0;31mFileNotFoundError\u001b[0m                         Traceback (most recent call last)",
            "\u001b[0;32m/usr/local/lib/python3.11/dist-packages/matplotlib/style/core.py\u001b[0m in \u001b[0;36muse\u001b[0;34m(style)\u001b[0m\n\u001b[1;32m    128\u001b[0m             \u001b[0;32mtry\u001b[0m\u001b[0;34m:\u001b[0m\u001b[0;34m\u001b[0m\u001b[0;34m\u001b[0m\u001b[0m\n\u001b[0;32m--> 129\u001b[0;31m                 \u001b[0mstyle\u001b[0m \u001b[0;34m=\u001b[0m \u001b[0m_rc_params_in_file\u001b[0m\u001b[0;34m(\u001b[0m\u001b[0mstyle\u001b[0m\u001b[0;34m)\u001b[0m\u001b[0;34m\u001b[0m\u001b[0;34m\u001b[0m\u001b[0m\n\u001b[0m\u001b[1;32m    130\u001b[0m             \u001b[0;32mexcept\u001b[0m \u001b[0mOSError\u001b[0m \u001b[0;32mas\u001b[0m \u001b[0merr\u001b[0m\u001b[0;34m:\u001b[0m\u001b[0;34m\u001b[0m\u001b[0;34m\u001b[0m\u001b[0m\n",
            "\u001b[0;32m/usr/local/lib/python3.11/dist-packages/matplotlib/__init__.py\u001b[0m in \u001b[0;36m_rc_params_in_file\u001b[0;34m(fname, transform, fail_on_error)\u001b[0m\n\u001b[1;32m    902\u001b[0m     \u001b[0mrc_temp\u001b[0m \u001b[0;34m=\u001b[0m \u001b[0;34m{\u001b[0m\u001b[0;34m}\u001b[0m\u001b[0;34m\u001b[0m\u001b[0;34m\u001b[0m\u001b[0m\n\u001b[0;32m--> 903\u001b[0;31m     \u001b[0;32mwith\u001b[0m \u001b[0m_open_file_or_url\u001b[0m\u001b[0;34m(\u001b[0m\u001b[0mfname\u001b[0m\u001b[0;34m)\u001b[0m \u001b[0;32mas\u001b[0m \u001b[0mfd\u001b[0m\u001b[0;34m:\u001b[0m\u001b[0;34m\u001b[0m\u001b[0;34m\u001b[0m\u001b[0m\n\u001b[0m\u001b[1;32m    904\u001b[0m         \u001b[0;32mtry\u001b[0m\u001b[0;34m:\u001b[0m\u001b[0;34m\u001b[0m\u001b[0;34m\u001b[0m\u001b[0m\n",
            "\u001b[0;32m/usr/lib/python3.11/contextlib.py\u001b[0m in \u001b[0;36m__enter__\u001b[0;34m(self)\u001b[0m\n\u001b[1;32m    136\u001b[0m         \u001b[0;32mtry\u001b[0m\u001b[0;34m:\u001b[0m\u001b[0;34m\u001b[0m\u001b[0;34m\u001b[0m\u001b[0m\n\u001b[0;32m--> 137\u001b[0;31m             \u001b[0;32mreturn\u001b[0m \u001b[0mnext\u001b[0m\u001b[0;34m(\u001b[0m\u001b[0mself\u001b[0m\u001b[0;34m.\u001b[0m\u001b[0mgen\u001b[0m\u001b[0;34m)\u001b[0m\u001b[0;34m\u001b[0m\u001b[0;34m\u001b[0m\u001b[0m\n\u001b[0m\u001b[1;32m    138\u001b[0m         \u001b[0;32mexcept\u001b[0m \u001b[0mStopIteration\u001b[0m\u001b[0;34m:\u001b[0m\u001b[0;34m\u001b[0m\u001b[0;34m\u001b[0m\u001b[0m\n",
            "\u001b[0;32m/usr/local/lib/python3.11/dist-packages/matplotlib/__init__.py\u001b[0m in \u001b[0;36m_open_file_or_url\u001b[0;34m(fname)\u001b[0m\n\u001b[1;32m    879\u001b[0m         \u001b[0mfname\u001b[0m \u001b[0;34m=\u001b[0m \u001b[0mos\u001b[0m\u001b[0;34m.\u001b[0m\u001b[0mpath\u001b[0m\u001b[0;34m.\u001b[0m\u001b[0mexpanduser\u001b[0m\u001b[0;34m(\u001b[0m\u001b[0mfname\u001b[0m\u001b[0;34m)\u001b[0m\u001b[0;34m\u001b[0m\u001b[0;34m\u001b[0m\u001b[0m\n\u001b[0;32m--> 880\u001b[0;31m         \u001b[0;32mwith\u001b[0m \u001b[0mopen\u001b[0m\u001b[0;34m(\u001b[0m\u001b[0mfname\u001b[0m\u001b[0;34m,\u001b[0m \u001b[0mencoding\u001b[0m\u001b[0;34m=\u001b[0m\u001b[0;34m'utf-8'\u001b[0m\u001b[0;34m)\u001b[0m \u001b[0;32mas\u001b[0m \u001b[0mf\u001b[0m\u001b[0;34m:\u001b[0m\u001b[0;34m\u001b[0m\u001b[0;34m\u001b[0m\u001b[0m\n\u001b[0m\u001b[1;32m    881\u001b[0m             \u001b[0;32myield\u001b[0m \u001b[0mf\u001b[0m\u001b[0;34m\u001b[0m\u001b[0;34m\u001b[0m\u001b[0m\n",
            "\u001b[0;31mFileNotFoundError\u001b[0m: [Errno 2] No such file or directory: 'seaborn-whitegrid'",
            "\nThe above exception was the direct cause of the following exception:\n",
            "\u001b[0;31mOSError\u001b[0m                                   Traceback (most recent call last)",
            "\u001b[0;32m<ipython-input-8-b437aae5a1f3>\u001b[0m in \u001b[0;36m<cell line: 0>\u001b[0;34m()\u001b[0m\n\u001b[1;32m      1\u001b[0m \u001b[0mtxt\u001b[0m \u001b[0;34m=\u001b[0m \u001b[0;34m\"AZN.L OHLC stock prices from 01 Jan 2010 - 1 jan 2024\"\u001b[0m\u001b[0;34m\u001b[0m\u001b[0;34m\u001b[0m\u001b[0m\n\u001b[1;32m      2\u001b[0m \u001b[0;34m\u001b[0m\u001b[0m\n\u001b[0;32m----> 3\u001b[0;31m \u001b[0mpandas_candlestick_ohlc\u001b[0m\u001b[0;34m(\u001b[0m\u001b[0mazn\u001b[0m\u001b[0;34m,\u001b[0m \u001b[0mstick\u001b[0m\u001b[0;34m=\u001b[0m\u001b[0;34m\"month\"\u001b[0m\u001b[0;34m)\u001b[0m\u001b[0;34m\u001b[0m\u001b[0;34m\u001b[0m\u001b[0m\n\u001b[0m",
            "\u001b[0;32m<ipython-input-7-f794c59b4db4>\u001b[0m in \u001b[0;36mpandas_candlestick_ohlc\u001b[0;34m(dat, stick, otherseries)\u001b[0m\n\u001b[1;32m     91\u001b[0m     \u001b[0mplt\u001b[0m\u001b[0;34m.\u001b[0m\u001b[0msetp\u001b[0m\u001b[0;34m(\u001b[0m\u001b[0mplt\u001b[0m\u001b[0;34m.\u001b[0m\u001b[0mgca\u001b[0m\u001b[0;34m(\u001b[0m\u001b[0;34m)\u001b[0m\u001b[0;34m.\u001b[0m\u001b[0mget_xticklabels\u001b[0m\u001b[0;34m(\u001b[0m\u001b[0;34m)\u001b[0m\u001b[0;34m,\u001b[0m \u001b[0mrotation\u001b[0m\u001b[0;34m=\u001b[0m\u001b[0;36m45\u001b[0m\u001b[0;34m,\u001b[0m \u001b[0mhorizontalalignment\u001b[0m\u001b[0;34m=\u001b[0m\u001b[0;34m'right'\u001b[0m\u001b[0;34m)\u001b[0m\u001b[0;34m\u001b[0m\u001b[0;34m\u001b[0m\u001b[0m\n\u001b[1;32m     92\u001b[0m     \u001b[0msns\u001b[0m\u001b[0;34m.\u001b[0m\u001b[0mset\u001b[0m\u001b[0;34m(\u001b[0m\u001b[0mrc\u001b[0m\u001b[0;34m=\u001b[0m\u001b[0;34m{\u001b[0m\u001b[0;34m'figure.figsize'\u001b[0m\u001b[0;34m:\u001b[0m\u001b[0;34m(\u001b[0m\u001b[0;36m20\u001b[0m\u001b[0;34m,\u001b[0m \u001b[0;36m10\u001b[0m\u001b[0;34m)\u001b[0m\u001b[0;34m}\u001b[0m\u001b[0;34m)\u001b[0m\u001b[0;34m\u001b[0m\u001b[0;34m\u001b[0m\u001b[0m\n\u001b[0;32m---> 93\u001b[0;31m     \u001b[0mplt\u001b[0m\u001b[0;34m.\u001b[0m\u001b[0mstyle\u001b[0m\u001b[0;34m.\u001b[0m\u001b[0muse\u001b[0m\u001b[0;34m(\u001b[0m\u001b[0;34m'seaborn-whitegrid'\u001b[0m\u001b[0;34m)\u001b[0m\u001b[0;34m\u001b[0m\u001b[0;34m\u001b[0m\u001b[0m\n\u001b[0m\u001b[1;32m     94\u001b[0m     \u001b[0mplt\u001b[0m\u001b[0;34m.\u001b[0m\u001b[0mtitle\u001b[0m\u001b[0;34m(\u001b[0m\u001b[0;34mf\"Candlestick chart of {txt}\"\u001b[0m\u001b[0;34m,\u001b[0m \u001b[0mcolor\u001b[0m\u001b[0;34m=\u001b[0m\u001b[0;34m'black'\u001b[0m\u001b[0;34m,\u001b[0m \u001b[0mfontsize\u001b[0m\u001b[0;34m=\u001b[0m\u001b[0;36m20\u001b[0m\u001b[0;34m)\u001b[0m\u001b[0;34m\u001b[0m\u001b[0;34m\u001b[0m\u001b[0m\n\u001b[1;32m     95\u001b[0m     \u001b[0mplt\u001b[0m\u001b[0;34m.\u001b[0m\u001b[0mxlabel\u001b[0m\u001b[0;34m(\u001b[0m\u001b[0;34m'Date'\u001b[0m\u001b[0;34m,\u001b[0m \u001b[0mcolor\u001b[0m\u001b[0;34m=\u001b[0m\u001b[0;34m'black'\u001b[0m\u001b[0;34m,\u001b[0m \u001b[0mfontsize\u001b[0m\u001b[0;34m=\u001b[0m\u001b[0;36m15\u001b[0m\u001b[0;34m)\u001b[0m\u001b[0;34m\u001b[0m\u001b[0;34m\u001b[0m\u001b[0m\n",
            "\u001b[0;32m/usr/local/lib/python3.11/dist-packages/matplotlib/style/core.py\u001b[0m in \u001b[0;36muse\u001b[0;34m(style)\u001b[0m\n\u001b[1;32m    129\u001b[0m                 \u001b[0mstyle\u001b[0m \u001b[0;34m=\u001b[0m \u001b[0m_rc_params_in_file\u001b[0m\u001b[0;34m(\u001b[0m\u001b[0mstyle\u001b[0m\u001b[0;34m)\u001b[0m\u001b[0;34m\u001b[0m\u001b[0;34m\u001b[0m\u001b[0m\n\u001b[1;32m    130\u001b[0m             \u001b[0;32mexcept\u001b[0m \u001b[0mOSError\u001b[0m \u001b[0;32mas\u001b[0m \u001b[0merr\u001b[0m\u001b[0;34m:\u001b[0m\u001b[0;34m\u001b[0m\u001b[0;34m\u001b[0m\u001b[0m\n\u001b[0;32m--> 131\u001b[0;31m                 raise OSError(\n\u001b[0m\u001b[1;32m    132\u001b[0m                     \u001b[0;34mf\"{style!r} is not a valid package style, path of style \"\u001b[0m\u001b[0;34m\u001b[0m\u001b[0;34m\u001b[0m\u001b[0m\n\u001b[1;32m    133\u001b[0m                     \u001b[0;34mf\"file, URL of style file, or library style name (library \"\u001b[0m\u001b[0;34m\u001b[0m\u001b[0;34m\u001b[0m\u001b[0m\n",
            "\u001b[0;31mOSError\u001b[0m: 'seaborn-whitegrid' is not a valid package style, path of style file, URL of style file, or library style name (library styles are listed in `style.available`)"
          ]
        },
        {
          "output_type": "display_data",
          "data": {
            "text/plain": [
              "<Figure size 640x480 with 1 Axes>"
            ],
            "image/png": "[encoded data removed]"
          },
          "metadata": {}
        }
      ],
      "source": [
        "txt = \"AZN.L OHLC stock prices from 01 Jan 2010 - 1 jan 2024\"\n",
        "\n",
        "pandas_candlestick_ohlc(azn, stick=\"month\")"
      ]
    },
    {
      "cell_type": "code",
      "execution_count": null,
      "id": "9be2cf17-619c-4bb9-9a76-8480d7d51a8b",
      "metadata": {
        "id": "9be2cf17-619c-4bb9-9a76-8480d7d51a8b"
      },
      "outputs": [],
      "source": [
        "txt = \"AZN.L OHLC stock prices from 01 - 31 Oct 2019\"\n",
        "\n",
        "pandas_candlestick_ohlc(azn['2019-10-01':'2019-10-31'], stick=\"day\")"
      ]
    },
    {
      "cell_type": "markdown",
      "id": "75e76c8b-c621-41c4-aa53-c428a3dab2d7",
      "metadata": {
        "id": "75e76c8b-c621-41c4-aa53-c428a3dab2d7"
      },
      "source": [
        "# Technical Indicators"
      ]
    },
    {
      "cell_type": "markdown",
      "id": "676da862-ec7d-4812-bb11-8e76605c1175",
      "metadata": {
        "id": "676da862-ec7d-4812-bb11-8e76605c1175"
      },
      "source": [
        "#Moving averages"
      ]
    },
    {
      "cell_type": "code",
      "execution_count": null,
      "id": "787d4d11-0d9d-4fdc-8425-552eff0230ab",
      "metadata": {
        "id": "787d4d11-0d9d-4fdc-8425-552eff0230ab"
      },
      "outputs": [],
      "source": [
        "#  Simple Moving Average (SMA)\n",
        "\n",
        "# def sma():\n",
        "#   plt.figure(figsize=(15,9))\n",
        "#   aqr_stocks[ticker]['Adj Close'].loc['2019-01-01':'2019-12-24'].rolling(window=20).mean().plot(label='20 Day Avg')\n",
        "#   aqr_stocks[ticker]['Adj Close'].loc['2019-01-01':'2019-12-24'].plot(label=f\"{label_txt}\")\n",
        "#   plt.title(f\"{title_txt}\", color = 'black', fontsize = 20)\n",
        "#   plt.xlabel('Date', color = 'black', fontsize = 15)\n",
        "#   plt.ylabel('Stock Price (p)', color = 'black', fontsize = 15);\n",
        "#   plt.legend()\n",
        "\n",
        "import matplotlib.pyplot as plt\n",
        "\n",
        "def sma():\n",
        "    plt.figure(figsize=(15,9))\n",
        "\n",
        "    # Remove missing values before computing the moving average\n",
        "    adj_close = aqr_stocks[ticker]['Adj Close'].loc['2019-01-01':'2019-12-24'].dropna()\n",
        "\n",
        "    # Compute the 20-day simple moving average\n",
        "    moving_avg = adj_close.rolling(window=20).mean()\n",
        "\n",
        "    # Plot the 20-day moving average\n",
        "    moving_avg.plot(label='20 Day Avg')\n",
        "\n",
        "    # Plot the adjusted close prices after the moving average\n",
        "    adj_close.plot(label=label_txt)\n",
        "\n",
        "    plt.title(title_txt, color='black', fontsize=20)\n",
        "    plt.xlabel('Date', color='black', fontsize=15)\n",
        "    plt.ylabel('Stock Price (p)', color='black', fontsize=15)\n",
        "    plt.legend()\n"
      ]
    },
    {
      "cell_type": "code",
      "execution_count": null,
      "id": "643d63e9-d6bc-4f72-9b86-5189cf5f4417",
      "metadata": {
        "id": "643d63e9-d6bc-4f72-9b86-5189cf5f4417"
      },
      "outputs": [],
      "source": [
        "ticker = 'AZN.L'\n",
        "title_txt = \"20-day Simple Moving Average for AZN.L stock\"\n",
        "label_txt = \"AZN.L Adj Close\"\n",
        "\n",
        "sma()"
      ]
    },
    {
      "cell_type": "code",
      "execution_count": null,
      "id": "f9f320a3-c66d-4a29-a210-1a14ad0a9cc3",
      "metadata": {
        "id": "f9f320a3-c66d-4a29-a210-1a14ad0a9cc3"
      },
      "outputs": [],
      "source": [
        "#Moving Average Crossover Strategy\n",
        "\n",
        "# def sma2():\n",
        "#   plt.figure(figsize=(15,9))\n",
        "#   aqr_stocks[ticker]['Adj Close'].loc['2010-01-01':'2019-12-24'].rolling(window=20).mean().plot(label='20 Day Avg')\n",
        "#   aqr_stocks[ticker]['Adj Close'].loc['2010-01-01':'2019-12-24'].rolling(window=50).mean().plot(label='50 Day Avg')\n",
        "#   aqr_stocks[ticker]['Adj Close'].loc['2010-01-01':'2019-12-24'].rolling(window=200).mean().plot(label='200 Day Avg')\n",
        "#   aqr_stocks[ticker]['Adj Close'].loc['2010-01-01':'2019-12-24'].plot(label=f\"{label_txt}\")\n",
        "#   plt.title(f\"{title_txt}\", color = 'black', fontsize = 20)\n",
        "#   plt.xlabel('Date', color = 'black', fontsize = 15)\n",
        "#   plt.ylabel('Stock Price (p)', color = 'black', fontsize = 15);\n",
        "#   plt.legend()\n",
        "\n",
        "import matplotlib.pyplot as plt\n",
        "\n",
        "def sma2():\n",
        "    plt.figure(figsize=(15,9))\n",
        "\n",
        "    # Remove missing values before computing the moving averages\n",
        "    adj_close = aqr_stocks[ticker]['Adj Close'].loc['2010-01-01':'2019-12-24'].dropna()\n",
        "\n",
        "    # Compute the moving averages\n",
        "    moving_avg_20d = adj_close.rolling(window=20).mean()\n",
        "    moving_avg_50d = adj_close.rolling(window=50).mean()\n",
        "    moving_avg_200d = adj_close.rolling(window=200).mean()\n",
        "\n",
        "    # Plot the moving averages\n",
        "    moving_avg_20d.plot(label='20 Day Avg')\n",
        "    moving_avg_50d.plot(label='50 Day Avg')\n",
        "    moving_avg_200d.plot(label='200 Day Avg')\n",
        "\n",
        "    # Plot the adjusted close prices\n",
        "    adj_close.plot(label=label_txt)\n",
        "\n",
        "    plt.title(title_txt, color='black', fontsize=20)\n",
        "    plt.xlabel('Date', color='black', fontsize=15)\n",
        "    plt.ylabel('Stock Price (p)', color='black', fontsize=15)\n",
        "    plt.legend()\n"
      ]
    },
    {
      "cell_type": "code",
      "execution_count": null,
      "id": "bb0612f1-3691-4a55-8d80-ca8df5a32a97",
      "metadata": {
        "id": "bb0612f1-3691-4a55-8d80-ca8df5a32a97"
      },
      "outputs": [],
      "source": [
        "ticker = 'AZN.L'\n",
        "\n",
        "title_txt = \"20, 50 and 200 day moving averages for AZN.L stock\"\n",
        "label_txt = \"AZN.L Adj Close\"\n",
        "\n",
        "sma2()\n",
        ""
      ]
    },
    {
      "cell_type": "code",
      "execution_count": null,
      "id": "b555ed82-c484-4366-9c6a-be6a3c219b29",
      "metadata": {
        "id": "b555ed82-c484-4366-9c6a-be6a3c219b29"
      },
      "outputs": [],
      "source": [
        "# 20, 50 and 200 day MA repeated for GSK.L Adjusted Close price data for the same time period\n",
        "\n",
        "ticker = 'GSK.L'\n",
        "\n",
        "title_txt = \"20, 50 and 200 day moving averages for GSK stock\"\n",
        "label_txt = \"GSK Adj Close\"\n",
        "\n",
        "sma2()"
      ]
    },
    {
      "cell_type": "code",
      "execution_count": null,
      "id": "6d0de046-5265-49e2-a936-a8facf7b1ed4",
      "metadata": {
        "id": "6d0de046-5265-49e2-a936-a8facf7b1ed4"
      },
      "outputs": [],
      "source": [
        "#Trading Strategy\n",
        "\n",
        "\n",
        "azn_sma = azn.copy()\n",
        "azn_sma.dropna(inplace=True)"
      ]
    },
    {
      "cell_type": "code",
      "execution_count": null,
      "id": "4953f24a-491f-4b66-abc3-91d84a679b30",
      "metadata": {
        "id": "4953f24a-491f-4b66-abc3-91d84a679b30"
      },
      "outputs": [],
      "source": [
        "azn_sma"
      ]
    },
    {
      "cell_type": "code",
      "execution_count": null,
      "id": "ffebd7a9-ca39-45ea-9b30-64c93aca7604",
      "metadata": {
        "id": "ffebd7a9-ca39-45ea-9b30-64c93aca7604"
      },
      "outputs": [],
      "source": [
        "# Calculate and add columns for moving averages of Adjusted Close price data\n",
        "\n",
        "azn_sma[\"20d\"] = np.round(azn_sma[\"Adj Close\"].rolling(window=20, center=False).mean(), 2)\n",
        "azn_sma[\"50d\"] = np.round(azn_sma[\"Adj Close\"].rolling(window=50, center=False).mean(), 2)\n",
        "azn_sma[\"200d\"] = np.round(azn_sma[\"Adj Close\"].rolling(window=200, center=False).mean(), 2)\n"
      ]
    },
    {
      "cell_type": "code",
      "execution_count": null,
      "id": "4ba35308-1410-41b0-bb20-19bd6e9c0f5b",
      "metadata": {
        "id": "4ba35308-1410-41b0-bb20-19bd6e9c0f5b"
      },
      "outputs": [],
      "source": [
        "azn_sma.tail()"
      ]
    },
    {
      "cell_type": "code",
      "execution_count": null,
      "id": "9048f355-64e6-47c1-b1c3-495d53dcfbae",
      "metadata": {
        "id": "9048f355-64e6-47c1-b1c3-495d53dcfbae"
      },
      "outputs": [],
      "source": [
        "txt = \"20, 50 and 200 day moving averages for AZN.L stock\"\n",
        "\n",
        "# Slice rows\n",
        "pandas_candlestick_ohlc(azn_sma.loc['2010-01-01':'2019-12-31',:], otherseries = [\"20d\", \"50d\", \"200d\"])"
      ]
    },
    {
      "cell_type": "code",
      "execution_count": null,
      "id": "cbd8094c-466d-4d26-ad0b-fb5c618ebcb2",
      "metadata": {
        "id": "cbd8094c-466d-4d26-ad0b-fb5c618ebcb2"
      },
      "outputs": [],
      "source": [
        "#Before using the strategy we will evaluate the quality of it first by backtesting, or looking at how profitable it is on historical data."
      ]
    },
    {
      "cell_type": "code",
      "execution_count": null,
      "id": "48025472-5f4e-4a1d-8c34-43b48cc0c274",
      "metadata": {
        "id": "48025472-5f4e-4a1d-8c34-43b48cc0c274"
      },
      "outputs": [],
      "source": [
        "azn_sma['20d-200d'] = azn_sma['20d'] - azn_sma['200d']\n",
        "azn_sma.tail()"
      ]
    },
    {
      "cell_type": "code",
      "execution_count": null,
      "id": "b360a503-9aed-44b8-8098-c6f5d8929df8",
      "metadata": {
        "id": "b360a503-9aed-44b8-8098-c6f5d8929df8"
      },
      "outputs": [],
      "source": [
        "azn_sma[\"Regime\"] = np.where(azn_sma['20d-200d'] > 0, 1, 0)\n",
        "# We have 1's for bullish regimes and 0's for everything else. Replace bearish regime's values with -1, and to maintain the rest of the vector, the second argument is azn_sma[\"Regime\"]\n",
        "azn_sma[\"Regime\"] = np.where(azn_sma['20d-200d'] < 0, -1, azn_sma[\"Regime\"])\n",
        "azn_sma.loc['2016-01-01':'2019-12-22',\"Regime\"].plot(ylim = (-2,2)).axhline(y = 0, color = \"black\", lw = 2);\n",
        "plt.title(\"Regime for AZN.L 20- and 200-day Moving Average Crossover Strategy for 2016-2019\", color = 'black', fontsize = 20)\n",
        "plt.xlabel('Date', color = 'black', fontsize = 15)\n",
        "plt.ylabel('Regime', color = 'black', fontsize = 15);"
      ]
    },
    {
      "cell_type": "code",
      "execution_count": null,
      "id": "58cb3d41-9881-4124-a9df-903a9d11e4c3",
      "metadata": {
        "id": "58cb3d41-9881-4124-a9df-903a9d11e4c3"
      },
      "outputs": [],
      "source": [
        "azn_sma[\"Regime\"].plot(ylim = (-2,2)).axhline(y = 0, color = \"black\", lw = 2);\n",
        "plt.title(\"Regime for AZN.L 20- and 200-day Moving Average Crossover Strategy for 2010-2019\", color = 'black', fontsize = 20)\n",
        "plt.xlabel('Date', color = 'black', fontsize = 15)\n",
        "plt.ylabel('Regime', color = 'black', fontsize = 15);"
      ]
    },
    {
      "cell_type": "code",
      "execution_count": null,
      "id": "5dcd2f12-a849-4f3e-8f2b-52ae36783fe4",
      "metadata": {
        "id": "5dcd2f12-a849-4f3e-8f2b-52ae36783fe4"
      },
      "outputs": [],
      "source": [
        "# Number of bullish and bearish days\n",
        "\n",
        "azn_sma[\"Regime\"].value_counts()"
      ]
    },
    {
      "cell_type": "raw",
      "id": "63d4480e-e8ee-4826-a1d8-ab9789e35453",
      "metadata": {
        "id": "63d4480e-e8ee-4826-a1d8-ab9789e35453"
      },
      "source": [
        "For 1715 days the market was bullish, for 606 days it was bearish, and neutral for 199 days for the time period 2010-2019."
      ]
    },
    {
      "cell_type": "code",
      "execution_count": null,
      "id": "fac9d3d6-849f-4486-928a-ae7cc1d243f2",
      "metadata": {
        "id": "fac9d3d6-849f-4486-928a-ae7cc1d243f2"
      },
      "outputs": [],
      "source": [
        "azn_sma"
      ]
    },
    {
      "cell_type": "code",
      "execution_count": null,
      "id": "03abdb46-0b13-4153-bdf6-b8c674732c2b",
      "metadata": {
        "id": "03abdb46-0b13-4153-bdf6-b8c674732c2b"
      },
      "outputs": [],
      "source": [
        "regime_orig = azn_sma.iloc[-1, 10]\n",
        "azn_sma.iloc[-1, 10] = 0\n",
        "azn_sma[\"Signal\"] = np.sign(azn_sma[\"Regime\"] - azn_sma[\"Regime\"].shift(1))\n",
        "# Restore original regime data\n",
        "azn_sma.iloc[-1, 10] = regime_orig\n",
        "azn_sma.tail()"
      ]
    },
    {
      "cell_type": "code",
      "execution_count": null,
      "id": "4ac864d1-0d6b-4960-8195-1dd5f4348b50",
      "metadata": {
        "id": "4ac864d1-0d6b-4960-8195-1dd5f4348b50"
      },
      "outputs": [],
      "source": [
        "azn_sma[\"Signal\"].plot(ylim = (-2, 2));\n",
        "plt.title(\"Trading signals for AZN.L 20- and 200-day Moving Average Crossover Strategy for 2010-2019\", color = 'black', fontsize = 20)\n",
        "plt.xlabel('Date', color = 'black', fontsize = 15)\n",
        "plt.ylabel('Trading signal', color = 'black', fontsize = 15);\n",
        ""
      ]
    },
    {
      "cell_type": "code",
      "execution_count": null,
      "id": "0eac011e-8b9c-4dd2-95e9-22aac6acbed3",
      "metadata": {
        "id": "0eac011e-8b9c-4dd2-95e9-22aac6acbed3"
      },
      "outputs": [],
      "source": [
        "# Unique counts of trading signals\n",
        "\n",
        "azn_sma[\"Signal\"].value_counts()"
      ]
    },
    {
      "cell_type": "raw",
      "id": "48e2669b-461e-416b-82c5-4c8bfa12a965",
      "metadata": {
        "id": "48e2669b-461e-416b-82c5-4c8bfa12a965"
      },
      "source": [
        "We would buy AstraZeneca stock 14 times and sell 14 times. If we only go long 14 trades will be engaged in over the 10-year period, while if we pivot from a long to a short position every time a long position is terminated, we would engage in 14 trades total. It is worth bearing in mind that trading more frequently isn’t necessarily good as trades are never free."
      ]
    },
    {
      "cell_type": "code",
      "execution_count": null,
      "id": "8407662d-5dce-4a28-9464-7fe3ed2c3120",
      "metadata": {
        "id": "8407662d-5dce-4a28-9464-7fe3ed2c3120"
      },
      "outputs": [],
      "source": [
        "# Identify what the price of the stock is at every buy.\n",
        "\n",
        "azn_sma.loc[azn_sma[\"Signal\"] == 1, \"Close\"]"
      ]
    },
    {
      "cell_type": "code",
      "execution_count": null,
      "id": "6c936d25-2d71-4422-bfd5-59814c1db80c",
      "metadata": {
        "id": "6c936d25-2d71-4422-bfd5-59814c1db80c"
      },
      "outputs": [],
      "source": [
        "# Identify what the price of the stock is at every sell.\n",
        "\n",
        "azn_sma.loc[azn_sma[\"Signal\"] == -1, \"Close\"]"
      ]
    },
    {
      "cell_type": "code",
      "execution_count": null,
      "id": "ca4d6874-bb01-4101-aa70-6f9c88ac1ab3",
      "metadata": {
        "id": "ca4d6874-bb01-4101-aa70-6f9c88ac1ab3"
      },
      "outputs": [],
      "source": [
        "# Identify what the price of the stock is at every sell.\n",
        "\n",
        "azn_sma.loc[azn_sma[\"Signal\"] == -1, \"Close\"]"
      ]
    },
    {
      "cell_type": "code",
      "execution_count": null,
      "id": "244c1287-7e45-4bb4-9fa5-8f69b5a23ffd",
      "metadata": {
        "id": "244c1287-7e45-4bb4-9fa5-8f69b5a23ffd"
      },
      "outputs": [],
      "source": [
        "# Create a dataframe with trades, including the price at the trade and the regime under which the trade is made.\n",
        "\n",
        "azn_signals = pd.concat([\n",
        "        pd.DataFrame({\"Price\": azn_sma.loc[azn_sma[\"Signal\"] == 1, \"Adj Close\"],\n",
        "                     \"Regime\": azn_sma.loc[azn_sma[\"Signal\"] == 1, \"Regime\"],\n",
        "                     \"Signal\": \"Buy\"}),\n",
        "        pd.DataFrame({\"Price\": azn_sma.loc[azn_sma[\"Signal\"] == -1, \"Adj Close\"],\n",
        "                     \"Regime\": azn_sma.loc[azn_sma[\"Signal\"] == -1, \"Regime\"],\n",
        "                     \"Signal\": \"Sell\"}),\n",
        "    ])\n",
        "azn_signals.sort_index(inplace = True)\n",
        "azn_signals\n",
        ""
      ]
    },
    {
      "cell_type": "code",
      "execution_count": null,
      "id": "3f9353da-21de-48b7-bf5a-321bd6f78dc4",
      "metadata": {
        "id": "3f9353da-21de-48b7-bf5a-321bd6f78dc4"
      },
      "outputs": [],
      "source": [
        "# the profitability of long trades\n",
        "\n",
        "azn_long_profits = pd.DataFrame({\n",
        "        \"Price\": azn_signals.loc[(azn_signals[\"Signal\"] == \"Buy\") &\n",
        "                                  azn_signals[\"Regime\"] == 1, \"Price\"],\n",
        "        \"Profit\": pd.Series(azn_signals[\"Price\"] - azn_signals[\"Price\"].shift(1)).loc[\n",
        "            azn_signals.loc[(azn_signals[\"Signal\"].shift(1) == \"Buy\") & (azn_signals[\"Regime\"].shift(1) == 1)].index\n",
        "        ].tolist(),\n",
        "        \"End Date\": azn_signals[\"Price\"].loc[\n",
        "            azn_signals.loc[(azn_signals[\"Signal\"].shift(1) == \"Buy\") & (azn_signals[\"Regime\"].shift(1) == 1)].index\n",
        "        ].index\n",
        "    })\n",
        "azn_long_profits"
      ]
    },
    {
      "cell_type": "markdown",
      "id": "7aa9ca4e-03d9-4949-bb3e-ab6d934081e5",
      "metadata": {
        "id": "7aa9ca4e-03d9-4949-bb3e-ab6d934081e5"
      },
      "source": [
        "### Exponential Moving Average"
      ]
    },
    {
      "cell_type": "code",
      "execution_count": null,
      "id": "6e3fb73e-9f9f-4ac0-bb83-62781acfc0a2",
      "metadata": {
        "id": "6e3fb73e-9f9f-4ac0-bb83-62781acfc0a2"
      },
      "outputs": [],
      "source": [
        "# 20-day EMA for Adjusted Close price for 2019\n",
        "\n",
        "# def ewma():\n",
        "#   plt.figure(figsize=(15,9))\n",
        "#   aqr_stocks[ticker]['Adj Close'].loc['2019-01-01':'2019-12-31'].ewm(20).mean().plot(label='20 Day Avg')\n",
        "#   aqr_stocks[ticker]['Adj Close'].loc['2019-01-01':'2019-12-31'].plot(label=f\"{label_txt}\")\n",
        "#   plt.title(f\"{title_txt}\", color = 'black', fontsize = 20)\n",
        "#   plt.xlabel('Date', color = 'black', fontsize = 15)\n",
        "#   plt.ylabel('Stock Price (p)', color = 'black', fontsize = 15);\n",
        "#   plt.legend()\n",
        "import matplotlib.pyplot as plt\n",
        "\n",
        "def ewma():\n",
        "    plt.figure(figsize=(15,9))\n",
        "\n",
        "    # Remove missing values from adjusted close prices\n",
        "    adj_close = aqr_stocks[ticker]['Adj Close'].loc['2019-01-01':'2019-12-31'].dropna()\n",
        "\n",
        "    # Compute the EWMA for 20-day average\n",
        "    ewma_20d = adj_close.ewm(span=20).mean()\n",
        "\n",
        "    # Plot the 20-day EWMA\n",
        "    ewma_20d.plot(label='20 Day Avg')\n",
        "\n",
        "    # Plot the adjusted close prices\n",
        "    adj_close.plot(label=label_txt)\n",
        "\n",
        "    plt.title(title_txt, color='black', fontsize=20)\n",
        "    plt.xlabel('Date', color='black', fontsize=15)\n",
        "    plt.ylabel('Stock Price (p)', color='black', fontsize=15)\n",
        "    plt.legend()\n",
        "\n"
      ]
    },
    {
      "cell_type": "code",
      "execution_count": null,
      "id": "d354c070-4c31-46c9-8598-e0af43e95f95",
      "metadata": {
        "id": "d354c070-4c31-46c9-8598-e0af43e95f95"
      },
      "outputs": [],
      "source": [
        "ticker = 'AZN.L'\n",
        "title_txt = \"20-day Exponential Moving Average for AZN.L stock\"\n",
        "label_txt = \"AZN.L Adj Close\"\n",
        "\n",
        "ewma()\n",
        ""
      ]
    },
    {
      "cell_type": "code",
      "execution_count": null,
      "id": "c1f52fb5-1a25-44f9-9569-0e6f04288665",
      "metadata": {
        "id": "c1f52fb5-1a25-44f9-9569-0e6f04288665"
      },
      "outputs": [],
      "source": [
        "# 20-, 50- and 200-day EMA for Adjusted Close price for 2016-2019\n",
        "\n",
        "# def ewma2():\n",
        "#   plt.figure(figsize=(15,9))\n",
        "#   aqr_stocks[ticker]['Adj Close'].loc['2016-01-01':'2019-12-31'].ewm(20).mean().plot(label='20 Day Avg')\n",
        "#   aqr_stocks[ticker]['Adj Close'].loc['2016-01-01':'2019-12-31'].ewm(50).mean().plot(label='50 Day Avg')\n",
        "#   aqr_stocks[ticker]['Adj Close'].loc['2016-01-01':'2019-12-31'].ewm(200).mean().plot(label='200 Day Avg')\n",
        "#   aqr_stocks[ticker]['Adj Close'].loc['2016-01-01':'2019-12-31'].plot(label=f\"{label_txt}\")\n",
        "#   plt.title(f\"{title_txt}\", color = 'black', fontsize = 20)\n",
        "#   plt.xlabel('Date', color = 'black', fontsize = 15)\n",
        "#   plt.ylabel('Stock Price (p)', color = 'black', fontsize = 15);\n",
        "#   plt.legend()\n",
        "\n",
        "import matplotlib.pyplot as plt\n",
        "\n",
        "def ewma2():\n",
        "    plt.figure(figsize=(15,9))\n",
        "\n",
        "    # Remove missing values from adjusted close prices\n",
        "    adj_close = aqr_stocks[ticker]['Adj Close'].loc['2016-01-01':'2019-12-31'].dropna()\n",
        "\n",
        "    # Compute the EMAs for 20-day, 50-day, and 200-day averages\n",
        "    ewma_20d = adj_close.ewm(span=20).mean()\n",
        "    ewma_50d = adj_close.ewm(span=50).mean()\n",
        "    ewma_200d = adj_close.ewm(span=200).mean()\n",
        "\n",
        "    # Plot the EMAs for 20-day, 50-day, and 200-day averages\n",
        "    ewma_20d.plot(label='20 Day Avg')\n",
        "    ewma_50d.plot(label='50 Day Avg')\n",
        "    ewma_200d.plot(label='200 Day Avg')\n",
        "\n",
        "    # Plot the adjusted close prices\n",
        "    adj_close.plot(label=label_txt)\n",
        "\n",
        "    plt.title(title_txt, color='black', fontsize=20)\n",
        "    plt.xlabel('Date', color='black', fontsize=15)\n",
        "    plt.ylabel('Stock Price (p)', color='black', fontsize=15)\n",
        "    plt.legend()\n"
      ]
    },
    {
      "cell_type": "code",
      "execution_count": null,
      "id": "ddc5f0a9-a5ef-4bc1-afc3-93f1e0b0bd74",
      "metadata": {
        "id": "ddc5f0a9-a5ef-4bc1-afc3-93f1e0b0bd74"
      },
      "outputs": [],
      "source": [
        "ticker = 'AZN.L'\n",
        "title_txt = \"20, 50 and 200-day Exponential Moving Averages for AZN.L stock\"\n",
        "label_txt = \"AZN.L Adj Close\"\n",
        "\n",
        "ewma2()"
      ]
    },
    {
      "cell_type": "markdown",
      "id": "03037955-1a0b-4377-8df5-1fd83d185045",
      "metadata": {
        "id": "03037955-1a0b-4377-8df5-1fd83d185045"
      },
      "source": [
        "## Triple Moving Average Crossover Strategy"
      ]
    },
    {
      "cell_type": "code",
      "execution_count": null,
      "id": "25ea4d4a-2601-4e44-b4e3-b81bc5e5ae21",
      "metadata": {
        "id": "25ea4d4a-2601-4e44-b4e3-b81bc5e5ae21"
      },
      "outputs": [],
      "source": [
        "\n",
        " azn.dropna(inplace=True)\n",
        "azn[['Adj Close']]['2019-05-01':'2019-10-31']"
      ]
    },
    {
      "cell_type": "code",
      "execution_count": null,
      "id": "4f0f39e8-2f74-44c6-8247-c2236243d081",
      "metadata": {
        "id": "4f0f39e8-2f74-44c6-8247-c2236243d081"
      },
      "outputs": [],
      "source": [
        "def adj_6mo():\n",
        "  sns.set(rc={'figure.figsize':(15, 9)})\n",
        "  aqr_stocks[ticker]['Adj Close'].loc['2019-05-01':'2019-10-31'].dropna().plot(label=f\"{label_txt}\")\n",
        "  plt.title(f\"{title_txt}\", color = 'black', fontsize = 20)\n",
        "  plt.xlabel('Date', color = 'black', fontsize = 15)\n",
        "  plt.ylabel('Stock Price (p)', color = 'black', fontsize = 15);\n",
        "  plt.legend()"
      ]
    },
    {
      "cell_type": "code",
      "execution_count": null,
      "id": "5a1aacd1-2ed0-4b77-aab4-1a5dfd02c4d6",
      "metadata": {
        "id": "5a1aacd1-2ed0-4b77-aab4-1a5dfd02c4d6"
      },
      "outputs": [],
      "source": [
        "ticker = 'AZN.L'\n",
        "title_txt = \"AZN.L Adjusted Close Price from 1 May - 31 Oct 2019\"\n",
        "label_txt = \"AZN.L Adj Close \"\n",
        "\n",
        "adj_6mo()"
      ]
    },
    {
      "cell_type": "code",
      "execution_count": null,
      "id": "4b2affd5-170d-43b7-b2fc-a0b5bae122b9",
      "metadata": {
        "id": "4b2affd5-170d-43b7-b2fc-a0b5bae122b9"
      },
      "outputs": [],
      "source": [
        "azn_adj_6mo = azn[['Adj Close']]['2019-05-01':'2019-10-31']"
      ]
    },
    {
      "cell_type": "code",
      "execution_count": null,
      "id": "b7ebb070-65fb-48ca-ae15-0fb4bf7c7027",
      "metadata": {
        "id": "b7ebb070-65fb-48ca-ae15-0fb4bf7c7027"
      },
      "outputs": [],
      "source": [
        "ShortEMA = azn_adj_6mo['Adj Close'].ewm(span=5, adjust=False).mean()\n",
        "MiddleEMA = azn_adj_6mo['Adj Close'].ewm(span=21, adjust=False).mean()\n",
        "LongEMA = azn_adj_6mo['Adj Close'].ewm(span=63, adjust=False).mean()"
      ]
    },
    {
      "cell_type": "code",
      "execution_count": null,
      "id": "ba570d7f-8cb8-4d2c-8fb0-20dba3c143cc",
      "metadata": {
        "id": "ba570d7f-8cb8-4d2c-8fb0-20dba3c143cc"
      },
      "outputs": [],
      "source": [
        "def ewma3():\n",
        "  sns.set(rc={'figure.figsize':(15, 9)})\n",
        "  plt.plot(aqr_stocks[ticker]['Adj Close'].loc['2019-05-01':'2019-10-31'].dropna(), label=f\"{label_txt}\", color = 'blue')\n",
        "  plt.plot(ShortEMA, label = 'Short/Fast EMA', color = 'red')\n",
        "  plt.plot(MiddleEMA, label = 'Middle/Medium EMA', color = 'orange')\n",
        "  plt.plot(LongEMA, label = 'Long/Slow EMA', color = 'green')\n",
        "  plt.title(f\"{title_txt}\", color = 'black', fontsize = 20)\n",
        "  plt.xlabel('Date', color = 'black', fontsize = 15)\n",
        "  plt.ylabel('Stock Price (p)', color = 'black', fontsize = 15);\n",
        "  plt.legend()\n",
        ""
      ]
    },
    {
      "cell_type": "code",
      "execution_count": null,
      "id": "d704fc6a-cfa0-412c-9a3f-731dfb1763f7",
      "metadata": {
        "id": "d704fc6a-cfa0-412c-9a3f-731dfb1763f7"
      },
      "outputs": [],
      "source": [
        "ticker = 'AZN.L'\n",
        "title_txt = \"Triple Exponential Moving Average Crossover for AZN.L stock\"\n",
        "label_txt = \"AZN.L Adj Close\"\n",
        "\n",
        "ewma3()"
      ]
    },
    {
      "cell_type": "code",
      "execution_count": null,
      "id": "1c0d00fd-74bd-4a2b-851e-8d774db3494b",
      "metadata": {
        "id": "1c0d00fd-74bd-4a2b-851e-8d774db3494b"
      },
      "outputs": [],
      "source": [
        "azn_adj_6mo['Short'] = ShortEMA\n",
        "azn_adj_6mo['Middle'] = MiddleEMA\n",
        "azn_adj_6mo['Long'] = LongEMA\n",
        ""
      ]
    },
    {
      "cell_type": "code",
      "execution_count": null,
      "id": "0c650864-0943-48bf-8821-b195111cbb47",
      "metadata": {
        "id": "0c650864-0943-48bf-8821-b195111cbb47"
      },
      "outputs": [],
      "source": [
        "azn_adj_6mo"
      ]
    },
    {
      "cell_type": "code",
      "execution_count": null,
      "id": "dbd9b4f8-1c06-4906-8b74-16847154bdeb",
      "metadata": {
        "id": "dbd9b4f8-1c06-4906-8b74-16847154bdeb"
      },
      "outputs": [],
      "source": [
        "def buy_sell_ewma3(data):\n",
        "\n",
        "  buy_list = []\n",
        "  sell_list = []\n",
        "  flag_long = False\n",
        "  flag_short = False\n",
        "\n",
        "  for i in range(0, len(data)):\n",
        "    if data['Middle'][i] < data['Long'][i] and data['Short'][i] < data['Middle'][i] and flag_long == False and flag_short == False:\n",
        "      buy_list.append(data['Adj Close'][i])\n",
        "      sell_list.append(np.nan)\n",
        "      flag_short = True\n",
        "    elif flag_short == True and data['Short'][i] > data['Middle'][i]:\n",
        "      sell_list.append(data['Adj Close'][i])\n",
        "      buy_list.append(np.nan)\n",
        "      flag_short = False\n",
        "    elif data['Middle'][i] > data['Long'][i] and data['Short'][i] > data['Middle'][i] and flag_long == False and flag_short == False:\n",
        "      buy_list.append(data['Adj Close'][i])\n",
        "      sell_list.append(np.nan)\n",
        "      flag_long = True\n",
        "    elif flag_long == True and data['Short'][i] < data['Middle'][i]:\n",
        "      sell_list.append(data['Adj Close'][i])\n",
        "      buy_list.append(np.nan)\n",
        "      flag_long = False\n",
        "    else:\n",
        "      buy_list.append(np.nan)\n",
        "      sell_list.append(np.nan)\n",
        "\n",
        "  return (buy_list, sell_list)\n",
        "\n",
        ""
      ]
    },
    {
      "cell_type": "code",
      "execution_count": null,
      "id": "c4b743d2-c4e5-4d3a-a065-0f87f56e6b00",
      "metadata": {
        "id": "c4b743d2-c4e5-4d3a-a065-0f87f56e6b00"
      },
      "outputs": [],
      "source": [
        "azn_adj_6mo['Buy'] = buy_sell_ewma3(azn_adj_6mo)[0]\n",
        "azn_adj_6mo['Sell'] = buy_sell_ewma3(azn_adj_6mo)[1]\n"
      ]
    },
    {
      "cell_type": "code",
      "execution_count": null,
      "id": "be232b99-6ede-4b3b-a7e3-9d3c9ce57d3d",
      "metadata": {
        "id": "be232b99-6ede-4b3b-a7e3-9d3c9ce57d3d"
      },
      "outputs": [],
      "source": [
        "def buy_sell_ewma3_plot():\n",
        "  sns.set(rc={'figure.figsize':(18, 10)})\n",
        "  plt.plot(aqr_stocks[ticker]['Adj Close'].loc['2019-05-01':'2019-10-31'].dropna(), label=f\"{label_txt}\", color = 'blue', alpha = 0.35)\n",
        "  plt.plot(ShortEMA, label = 'Short/Fast EMA', color = 'red', alpha = 0.35)\n",
        "  plt.plot(MiddleEMA, label = 'Middle/Medium EMA', color = 'orange', alpha = 0.35)\n",
        "  plt.plot(LongEMA, label = 'Long/Slow EMA', color = 'green', alpha = 0.35)\n",
        "  plt.scatter(azn_adj_6mo.index, azn_adj_6mo['Buy'], color = 'green', label = 'Buy Signal', marker = '^', alpha = 1)\n",
        "  plt.scatter(azn_adj_6mo.index, azn_adj_6mo['Sell'], color = 'red', label = 'Buy Signal', marker='v', alpha = 1)\n",
        "  plt.title(f\"{title_txt}\", color = 'black', fontsize = 20)\n",
        "  plt.xlabel('Date', color = 'black', fontsize = 15)\n",
        "  plt.ylabel('Stock Price (p)', color = 'black', fontsize = 15);\n",
        "  plt.legend()\n",
        ""
      ]
    },
    {
      "cell_type": "code",
      "execution_count": null,
      "id": "415cd3e1-5227-4e53-8d32-c8a376f25485",
      "metadata": {
        "id": "415cd3e1-5227-4e53-8d32-c8a376f25485"
      },
      "outputs": [],
      "source": [
        "ticker = 'AZN.L'\n",
        "title_txt = \"Trading signals for AZN.L stock\"\n",
        "label_txt = \"AZN.L Adj Close\"\n",
        "\n",
        "buy_sell_ewma3_plot()"
      ]
    },
    {
      "cell_type": "markdown",
      "id": "6acd2b41-36dd-442c-ac2a-7e71773d99a4",
      "metadata": {
        "id": "6acd2b41-36dd-442c-ac2a-7e71773d99a4"
      },
      "source": [
        "#Exponential Smoothing\n",
        "\n",
        "need to do"
      ]
    },
    {
      "cell_type": "markdown",
      "id": "d50a9ca8-18c2-409b-8ecf-6bfebe028e79",
      "metadata": {
        "id": "d50a9ca8-18c2-409b-8ecf-6bfebe028e79"
      },
      "source": [
        "### Moving average convergence divergence (MACD)"
      ]
    },
    {
      "cell_type": "code",
      "execution_count": null,
      "id": "e8105dc2-684b-4ab3-b672-03f95eb53ac1",
      "metadata": {
        "id": "e8105dc2-684b-4ab3-b672-03f95eb53ac1"
      },
      "outputs": [],
      "source": [
        "def adj_3mo():\n",
        "  sns.set(rc={'figure.figsize':(15, 9)})\n",
        "  aqr_stocks[ticker]['Adj Close'].loc['2019-08-01':'2019-10-31'].dropna().plot(label=f\"{label_txt}\")\n",
        "  plt.title(f\"{title_txt}\", color = 'black', fontsize = 20)\n",
        "  plt.xlabel('Date', color = 'black', fontsize = 15)\n",
        "  plt.ylabel('Stock Price (p)', color = 'black', fontsize = 15);\n",
        "  plt.legend()"
      ]
    },
    {
      "cell_type": "code",
      "execution_count": null,
      "id": "d45f6220-24aa-4f26-b9ef-39a81570a773",
      "metadata": {
        "id": "d45f6220-24aa-4f26-b9ef-39a81570a773"
      },
      "outputs": [],
      "source": [
        "ticker = 'AZN.L'\n",
        "title_txt = \"AZN.L Adjusted Close Price from 1 Aug - 31 Oct 2019\"\n",
        "label_txt = \"AZN.L Adj Close \"\n",
        "\n",
        "adj_3mo()"
      ]
    },
    {
      "cell_type": "code",
      "execution_count": null,
      "id": "70b9555d-856b-4a6f-893e-94e33a089e54",
      "metadata": {
        "id": "70b9555d-856b-4a6f-893e-94e33a089e54"
      },
      "outputs": [],
      "source": [
        "azn_adj_3mo = azn[['Adj Close']]['2019-08-01':'2019-10-31']"
      ]
    },
    {
      "cell_type": "code",
      "execution_count": null,
      "id": "8e5cc55f-4de3-483f-b17b-d260a285449d",
      "metadata": {
        "id": "8e5cc55f-4de3-483f-b17b-d260a285449d"
      },
      "outputs": [],
      "source": [
        "ShortEMA = azn_adj_3mo['Adj Close'].ewm(span=12, adjust=False).mean()\n",
        "LongEMA = azn_adj_3mo['Adj Close'].ewm(span=26, adjust=False).mean()\n",
        "MACD = ShortEMA - LongEMA\n",
        "signal = MACD.ewm(span=9, adjust=False).mean()\n",
        ""
      ]
    },
    {
      "cell_type": "code",
      "execution_count": null,
      "id": "32e88478-783d-483d-9ca9-6ead9e5b49f3",
      "metadata": {
        "id": "32e88478-783d-483d-9ca9-6ead9e5b49f3"
      },
      "outputs": [],
      "source": [
        "def macd():\n",
        "  plt.figure(figsize=(15, 9))\n",
        "  plt.plot(azn_adj_3mo.index, MACD, label = f\"{macd_label_txt}\", color= 'red')\n",
        "  plt.plot(azn_adj_3mo.index, signal, label = f\"{sig_label_txt}\", color= 'blue')\n",
        "  plt.title(f\"{title_txt}\", color = 'black', fontsize = 20)\n",
        "  plt.xticks (rotation = 45)\n",
        "  plt.xlabel('Date', color = 'black', fontsize = 15)\n",
        "  plt.legend(loc='upper left')\n",
        "  plt.show()\n",
        ""
      ]
    },
    {
      "cell_type": "code",
      "execution_count": null,
      "id": "8318ab79-568f-4b9d-ad46-37282f338d5c",
      "metadata": {
        "id": "8318ab79-568f-4b9d-ad46-37282f338d5c"
      },
      "outputs": [],
      "source": [
        "ticker = 'AZN.L'\n",
        "title_txt = 'MACD and Signal line for AZN.L stock from 1 Aug - 31 Oct 2019'\n",
        "macd_label_txt =\"AZN.L MACD\"\n",
        "sig_label_txt = \"Signal Line\"\n",
        "\n",
        "macd()"
      ]
    },
    {
      "cell_type": "raw",
      "id": "94c9a716-3dba-42e3-b0fc-a40c94ae0612",
      "metadata": {
        "id": "94c9a716-3dba-42e3-b0fc-a40c94ae0612"
      },
      "source": [
        "When the MACD line crosses above the signal line this indicates a good time to buy."
      ]
    },
    {
      "cell_type": "code",
      "execution_count": null,
      "id": "3939f35f-4b71-4cb5-a55a-00022b9c2daa",
      "metadata": {
        "id": "3939f35f-4b71-4cb5-a55a-00022b9c2daa"
      },
      "outputs": [],
      "source": [
        "# Create new columns for the MACD and Signal Line data\n",
        "\n",
        "azn_adj_3mo['MACD'] = MACD\n",
        "azn_adj_3mo['Signal Line'] = signal\n",
        "azn_adj_3mo"
      ]
    },
    {
      "cell_type": "code",
      "execution_count": null,
      "id": "b8d8ae33-24ca-47e4-a1c5-cc6fb7ead4bf",
      "metadata": {
        "id": "b8d8ae33-24ca-47e4-a1c5-cc6fb7ead4bf"
      },
      "outputs": [],
      "source": [
        "# Function to signal when to buy and sell\n",
        "\n",
        "def buy_sell_macd(signal):\n",
        "  Buy = []\n",
        "  Sell = []\n",
        "  flag = -1\n",
        "\n",
        "  for i in range(0, len(signal)):\n",
        "    if signal['MACD'][i] > signal['Signal Line'][i]:\n",
        "      Sell.append(np.nan)\n",
        "      if flag != 1:\n",
        "        Buy.append(signal['Adj Close'][i])\n",
        "        flag = 1\n",
        "      else:\n",
        "        Buy.append(np.nan)\n",
        "    elif signal['MACD'][i] < signal['Signal Line'][i]:\n",
        "      Buy.append(np.nan)\n",
        "      if flag != 0:\n",
        "        Sell.append(signal['Adj Close'][i])\n",
        "        flag = 0\n",
        "      else:\n",
        "        Sell.append(np.nan)\n",
        "    else:\n",
        "      Buy.append(np.nan)\n",
        "      Sell.append(np.nan)\n",
        "\n",
        "  return (Buy, Sell)"
      ]
    },
    {
      "cell_type": "code",
      "execution_count": null,
      "id": "ce00b45d-36e7-4619-8587-d8a2bfda24c6",
      "metadata": {
        "id": "ce00b45d-36e7-4619-8587-d8a2bfda24c6"
      },
      "outputs": [],
      "source": [
        "# Create buy and sell columns\n",
        "\n",
        "a = buy_sell_macd(azn_adj_3mo)\n",
        "azn_adj_3mo['Buy_Signal_Price'] = a[0]\n",
        "azn_adj_3mo['Sell_Signal_Price'] = a[1]\n",
        "\n",
        "\n",
        "azn_adj_3mo"
      ]
    },
    {
      "cell_type": "code",
      "execution_count": null,
      "id": "02242c8b-ac6a-45b3-a713-5e9c37a9b5a3",
      "metadata": {
        "id": "02242c8b-ac6a-45b3-a713-5e9c37a9b5a3"
      },
      "outputs": [],
      "source": [
        "# Plot buy and sell signals\n",
        "\n",
        "def buy_sell_macd_plot():\n",
        "  plt.figure(figsize=(20, 10))\n",
        "  plt.scatter(azn_adj_3mo.index, azn_adj_3mo['Buy_Signal_Price'], color='green', label='Buy', marker='^', alpha=1)\n",
        "  plt.scatter(azn_adj_3mo.index, azn_adj_3mo['Sell_Signal_Price'], color='red', label='Sell', marker='v', alpha=1)\n",
        "  plt.plot(azn_adj_3mo['Adj Close'], label='Adj Close Price', alpha = 0.35)\n",
        "  plt.title(f\"{title_txt}\", color = 'black', fontsize = 20)\n",
        "  plt.xlabel('Date', color = 'black', fontsize = 15)\n",
        "  plt.ylabel('Adj Close Price')\n",
        "  plt.legend(loc = 'upper left')\n",
        "  plt.show()"
      ]
    },
    {
      "cell_type": "code",
      "execution_count": null,
      "id": "3f422bde-82d5-410f-8cba-d1ca7e554bd9",
      "metadata": {
        "id": "3f422bde-82d5-410f-8cba-d1ca7e554bd9"
      },
      "outputs": [],
      "source": [
        "ticker = 'AZN.L'\n",
        "title_txt = 'AZN.L Adjusted Close Price Buy & Sell Signals'\n",
        "\n",
        "buy_sell_macd_plot()"
      ]
    },
    {
      "cell_type": "markdown",
      "id": "995df61e-3902-4751-8f56-34c5c06432ed",
      "metadata": {
        "id": "995df61e-3902-4751-8f56-34c5c06432ed"
      },
      "source": [
        "## 5.2 Momentum Strategies"
      ]
    },
    {
      "cell_type": "raw",
      "id": "2a0b66ba-05c8-415d-9e10-30a2bcecf209",
      "metadata": {
        "id": "2a0b66ba-05c8-415d-9e10-30a2bcecf209"
      },
      "source": [
        "5.2.1 Relative Strength Index (RSI)\n",
        "\n",
        "The RSI determines the level of overbought (70) and oversold (30) zones using a default lookback period of 14 i.e. it uses the last 14 values to calculate its values."
      ]
    },
    {
      "cell_type": "code",
      "execution_count": null,
      "id": "108390cc-3301-454e-b6f3-a16a31f844a6",
      "metadata": {
        "id": "108390cc-3301-454e-b6f3-a16a31f844a6"
      },
      "outputs": [],
      "source": [
        "def adj_12mo():\n",
        "  sns.set(rc={'figure.figsize':(15, 9)})\n",
        "  aqr_stocks[ticker]['Adj Close'].loc['2019-01-01':'2019-12-31'].dropna().plot(label=f\"{label_txt}\")\n",
        "  plt.title(f\"{title_txt}\", color = 'black', fontsize = 20)\n",
        "  plt.xlabel('Date', color = 'black', fontsize = 15)\n",
        "  plt.ylabel('Stock Price (p)', color = 'black', fontsize = 15);\n",
        "  plt.legend()"
      ]
    },
    {
      "cell_type": "code",
      "execution_count": null,
      "id": "46fd853d-87f2-4723-b031-cf01b197f236",
      "metadata": {
        "id": "46fd853d-87f2-4723-b031-cf01b197f236"
      },
      "outputs": [],
      "source": [
        "ticker = 'AZN.L'\n",
        "title_txt = \"AZN.L Adjusted Close Price from 1 Jan - 31 Dec 2019\"\n",
        "label_txt = \"AZN.L Adj Close \"\n",
        "\n",
        "adj_12mo()"
      ]
    },
    {
      "cell_type": "code",
      "execution_count": null,
      "id": "071b3f17-26b8-431e-8f75-35b941d7e5d4",
      "metadata": {
        "id": "071b3f17-26b8-431e-8f75-35b941d7e5d4"
      },
      "outputs": [],
      "source": [
        "azn_adj_12mo = azn[['Adj Close']]['2019-01-01':'2019-12-31']"
      ]
    },
    {
      "cell_type": "code",
      "execution_count": null,
      "id": "adb3c07b-94ee-45a5-b014-50ae64e4553c",
      "metadata": {
        "id": "adb3c07b-94ee-45a5-b014-50ae64e4553c"
      },
      "outputs": [],
      "source": [
        "\n",
        "# Prepare the data to calculate the RSI\n",
        "delta = azn_adj_12mo['Adj Close'].diff(1)\n",
        "delta\n",
        ""
      ]
    },
    {
      "cell_type": "code",
      "execution_count": null,
      "id": "03fa6534-54ef-4a74-bd3b-4118d339348d",
      "metadata": {
        "id": "03fa6534-54ef-4a74-bd3b-4118d339348d"
      },
      "outputs": [],
      "source": [
        "delta = delta.dropna()\n",
        "delta"
      ]
    },
    {
      "cell_type": "code",
      "execution_count": null,
      "id": "4f82f951-632f-4c25-9ed7-2b8af20cc711",
      "metadata": {
        "id": "4f82f951-632f-4c25-9ed7-2b8af20cc711"
      },
      "outputs": [],
      "source": [
        "# Get positive gains (up) and negative gains (down)\n",
        "up = delta.copy()\n",
        "down = delta.copy()\n",
        "\n",
        "up[up < 0] = 0\n",
        "down[down > 0] = 0\n",
        "\n",
        "\n",
        "# Get time period\n",
        "\n",
        "period = 14"
      ]
    },
    {
      "cell_type": "code",
      "execution_count": null,
      "id": "c32481c1-2694-4ca4-bbf8-586f25979f9e",
      "metadata": {
        "id": "c32481c1-2694-4ca4-bbf8-586f25979f9e"
      },
      "outputs": [],
      "source": [
        "# Calculate average gain and average loss\n",
        "AVG_Gain = up.rolling(window=period).mean()\n",
        "#AVG_Loss = abs(down.rolling(window=period).mean())\n",
        "AVG_Loss = down.abs().rolling(window=period).mean()"
      ]
    },
    {
      "cell_type": "code",
      "execution_count": null,
      "id": "3dceedaf-b132-4ea6-925d-a3023e0b61c3",
      "metadata": {
        "id": "3dceedaf-b132-4ea6-925d-a3023e0b61c3"
      },
      "outputs": [],
      "source": [
        "# Calculate RSI based on SMA\n",
        "\n",
        "# Calculate Relative Strength (RS)\n",
        "RS = AVG_Gain / AVG_Loss\n",
        "# Calculate RSI\n",
        "RSI = 100.0 - (100.0 / (1.0 + RS))"
      ]
    },
    {
      "cell_type": "code",
      "execution_count": null,
      "id": "4d6e0d87-8e55-4f08-bcc2-9767da5ac479",
      "metadata": {
        "id": "4d6e0d87-8e55-4f08-bcc2-9767da5ac479"
      },
      "outputs": [],
      "source": [
        "def rsi():\n",
        "  sns.set(rc={'figure.figsize':(20, 10)})\n",
        "  plt.title(f\"{title_txt}\", color = 'black', fontsize = 20)\n",
        "  plt.xlabel('Date', color = 'black', fontsize = 15)\n",
        "  plt.ylabel('RSI', color = 'black', fontsize = 15);\n",
        "  RSI.plot()"
      ]
    },
    {
      "cell_type": "code",
      "execution_count": null,
      "id": "5ba7a354-5882-4168-90b5-3b3736b81d22",
      "metadata": {
        "id": "5ba7a354-5882-4168-90b5-3b3736b81d22"
      },
      "outputs": [],
      "source": [
        "ticker = 'AZN.L'\n",
        "title_txt = \"AZN.L RSI plot for 1 Jan - 31 Dec 2019\"\n",
        "label_txt = \"AZN.L RSI level\"\n",
        "\n",
        "rsi()"
      ]
    },
    {
      "cell_type": "code",
      "execution_count": null,
      "id": "85ae410b-b6b2-4676-9d36-ef9ffdf00555",
      "metadata": {
        "id": "85ae410b-b6b2-4676-9d36-ef9ffdf00555"
      },
      "outputs": [],
      "source": [
        "new_df = pd.DataFrame()\n",
        "new_df['Adj Close'] = azn_adj_12mo['Adj Close']\n",
        "new_df['RSI'] = RSI\n",
        "new_df\n",
        ""
      ]
    },
    {
      "cell_type": "code",
      "execution_count": null,
      "id": "e74806cf-5974-487b-9150-8881d21a0180",
      "metadata": {
        "id": "e74806cf-5974-487b-9150-8881d21a0180"
      },
      "outputs": [],
      "source": [
        "# Plot corresponding RSI values and the significant levels\n",
        "\n",
        "def rsi_sma():\n",
        "  plt.figure(figsize=(20, 10))\n",
        "  plt.title(f\"{title_txt}\", color = 'black', fontsize = 20)\n",
        "  plt.plot(new_df.index, new_df['RSI'])\n",
        "  plt.xlabel('Date', color = 'black', fontsize = 15)\n",
        "  plt.axhline(0, linestyle='--', alpha = 0.5, color='gray')\n",
        "  plt.axhline(10, linestyle='--', alpha = 0.5, color='orange')\n",
        "  plt.axhline(20, linestyle='--', alpha = 0.5, color='green')\n",
        "  plt.axhline(30, linestyle='--', alpha = 0.5, color='red')\n",
        "  plt.axhline(70, linestyle='--', alpha = 0.5, color='red')\n",
        "  plt.axhline(80, linestyle='--', alpha = 0.5, color='green')\n",
        "  plt.axhline(90, linestyle='--', alpha = 0.5, color='orange')\n",
        "  plt.axhline(100, linestyle='--', alpha = 0.5, color='gray')\n",
        "  plt.show()"
      ]
    },
    {
      "cell_type": "code",
      "execution_count": null,
      "id": "0780532a-d59b-43ea-97ff-733f743ceb83",
      "metadata": {
        "id": "0780532a-d59b-43ea-97ff-733f743ceb83"
      },
      "outputs": [],
      "source": [
        "title_txt = 'AZN.L RSI based on SMA'\n",
        "\n",
        "rsi_sma()\n"
      ]
    },
    {
      "cell_type": "markdown",
      "id": "b82645f9-87ae-4a04-abc2-874b82cb5560",
      "metadata": {
        "id": "b82645f9-87ae-4a04-abc2-874b82cb5560"
      },
      "source": [
        "# Rate of Change (ROC)"
      ]
    },
    {
      "cell_type": "raw",
      "id": "bf81a192-75c5-4410-97c1-8a8e2bd9e0de",
      "metadata": {
        "id": "bf81a192-75c5-4410-97c1-8a8e2bd9e0de"
      },
      "source": [
        "The ROC indicator is a pure momentum oscillator. The ROC calculation compares the current price with the price \"n\" periods ago e.g. when we compute the ROC of the daily price with a 9-day lag, we are simply looking at how much, in percentage, the price has gone up (or down) compared to 9 days ago\n"
      ]
    },
    {
      "cell_type": "code",
      "execution_count": null,
      "id": "b4e367ce-0e9c-4110-a8ae-6e26e4e32dee",
      "metadata": {
        "id": "b4e367ce-0e9c-4110-a8ae-6e26e4e32dee"
      },
      "outputs": [],
      "source": [
        "azn_roc = azn.copy()\n",
        "azn_roc"
      ]
    },
    {
      "cell_type": "code",
      "execution_count": null,
      "id": "68825540-87d6-44fc-9dc7-85cc6f3a1140",
      "metadata": {
        "id": "68825540-87d6-44fc-9dc7-85cc6f3a1140"
      },
      "outputs": [],
      "source": [
        "azn_roc_12mo = azn_roc['2019-01-01':'2019-12-31']\n",
        "azn_roc_12mo"
      ]
    },
    {
      "cell_type": "code",
      "execution_count": null,
      "id": "7284a2d7-49f6-454e-9fe4-2b7fee64d8bc",
      "metadata": {
        "id": "7284a2d7-49f6-454e-9fe4-2b7fee64d8bc"
      },
      "outputs": [],
      "source": [
        "azn_roc_12mo['ROC'] = ( azn_roc_12mo['Adj Close'] / azn_roc_12mo['Adj Close'].shift(9) -1 ) * 100\n",
        "azn_roc_12mo[['Adj Close', 'ROC']]"
      ]
    },
    {
      "cell_type": "code",
      "execution_count": null,
      "id": "db47d0ec-59fb-4d05-b70c-823047711e2a",
      "metadata": {
        "id": "db47d0ec-59fb-4d05-b70c-823047711e2a"
      },
      "outputs": [],
      "source": [
        "# selection of data - last 100 days\n",
        "\n",
        "azn_roc_100d = azn_roc_12mo[-100:]\n",
        "dates = azn_roc_100d.index\n",
        "price = azn_roc_100d['Adj Close']\n",
        "roc = azn_roc_100d['ROC']"
      ]
    },
    {
      "cell_type": "code",
      "execution_count": null,
      "id": "88923c69-965d-4888-9f76-f1fa50a099e0",
      "metadata": {
        "id": "88923c69-965d-4888-9f76-f1fa50a099e0"
      },
      "outputs": [],
      "source": [
        "# Plot AZN.L Adj Close Price and 9-day ROC for last 100 days of 2019\n",
        "\n",
        "fig = plt.figure(figsize=(16,10))\n",
        "fig.subplots_adjust(hspace=0)\n",
        "\n",
        "plt.rcParams.update({'font.size': 14})"
      ]
    },
    {
      "cell_type": "code",
      "execution_count": null,
      "id": "9c1d6ec8-0b9c-4803-a944-67e853195964",
      "metadata": {
        "id": "9c1d6ec8-0b9c-4803-a944-67e853195964"
      },
      "outputs": [],
      "source": [
        "# Price subplot\n",
        "price_ax = plt.subplot(2, 1, 1)\n",
        "price_ax.plot(dates, price, color='blue', linewidth=2, label=\"Adj Closing Price\")\n",
        "price_ax.legend(loc=\"upper left\", fontsize=12)\n",
        "price_ax.set_ylabel(\"Price\")\n",
        "price_ax.set_title(\"AZN.L Daily Price\", fontsize=24)\n",
        "\n",
        "# ROC subplot\n",
        "roc_ax = plt.subplot(2, 1, 2, sharex = price_ax)\n",
        "roc_ax.plot(roc, color='k', linewidth = 1, alpha=0.7, label=\"9-Day ROC\")\n",
        "roc_ax.legend(loc=\"upper left\", fontsize=12)\n",
        "roc_ax.set_ylabel(\"% ROC\")\n",
        "\n",
        "# Adding a horizontal line at the zero level in the ROC subplot:\n",
        "roc_ax.axhline(0, color = (.5, .5, .5), linestyle = '--', alpha = 0.5)\n",
        "\n",
        "# Filling the areas between the indicator and the level 0 line:\n",
        "roc_ax.fill_between(dates, 0, roc, where = (roc >= 0), color='g', alpha=0.3, interpolate=True)\n",
        "roc_ax.fill_between(dates, 0, roc, where = (roc  < 0), color='r', alpha=0.3, interpolate=True)\n",
        "\n",
        "# Formatting the date labels\n",
        "roc_ax.xaxis.set_major_formatter(DateFormatter('%b'))\n",
        "\n",
        "# Formatting the labels on the y axis for ROC:\n",
        "roc_ax.yaxis.set_major_formatter(mpl.ticker.PercentFormatter())\n",
        "\n",
        "# Adding a grid to both subplots:\n",
        "price_ax.grid(b=True, linestyle='--', alpha=0.5)\n",
        "roc_ax.grid(b=True, linestyle='--', alpha=0.5)\n",
        "\n",
        "# Setting a background color for the both subplots:\n",
        "price_ax.set_facecolor((.94,.95,.98))\n",
        "roc_ax.set_facecolor((.98,.97,.93))\n",
        "\n",
        "# Adding margins around the plots:\n",
        "price_ax.margins(0.05, 0.2)\n",
        "roc_ax.margins(0.05, 0.2)\n",
        "\n",
        "# Hiding the tick marks from the horizontal and vertical axis:\n",
        "price_ax.tick_params(left=False, bottom=False)\n",
        "roc_ax.tick_params(left=False, bottom=False, labelrotation=45)\n",
        "\n",
        "# Hiding all the spines for the price subplot:\n",
        "for s in price_ax.spines.values():\n",
        "    s.set_visible(False)\n",
        "# Hiding all the spines for the ROC subplot:\n",
        "for s in roc_ax.spines.values():\n",
        "    s.set_visible(False)\n",
        "\n",
        "# To better separate the two subplots, we reinstate a spine in between them\n",
        "roc_ax.spines['top'].set_visible(True)\n",
        "roc_ax.spines['top'].set_linewidth(1.5)"
      ]
    },
    {
      "cell_type": "code",
      "execution_count": null,
      "id": "04b0afef-79ae-4b00-8bcb-aba6d798d408",
      "metadata": {
        "id": "04b0afef-79ae-4b00-8bcb-aba6d798d408"
      },
      "outputs": [],
      "source": [
        "# Candlestick and volume plot for same time frame\n",
        "\n",
        "mpf.plot(azn_roc_100d, type='candle',  style='yahoo', figsize=(15,8),  title=\"AZN.L Daily Price\", volume=True)\n"
      ]
    },
    {
      "cell_type": "code",
      "execution_count": null,
      "id": "d4528d01-01dd-401d-9de1-c2698c8187b6",
      "metadata": {
        "id": "d4528d01-01dd-401d-9de1-c2698c8187b6"
      },
      "outputs": [],
      "source": [
        "# Combined Candlestick, ROC and Volume plot\n",
        "\n",
        "# We create an additional plot planing it on the third panel\n",
        "roc_plot = mpf.make_addplot(roc, panel=2, ylabel='ROC')\n",
        "\n",
        "#We pass the additional plot using the addplot parameter\n",
        "mpf.plot(azn_roc_100d, type='candle',  style='yahoo', figsize=(15,8), addplot=roc_plot, title=\"AZN.L 9-day ROC \", volume=True)\n",
        ""
      ]
    },
    {
      "cell_type": "markdown",
      "id": "6a9d330e-0dcc-47f6-81a2-21f76c5bf4fb",
      "metadata": {
        "id": "6a9d330e-0dcc-47f6-81a2-21f76c5bf4fb"
      },
      "source": [
        " # Volume Trading Strategies"
      ]
    },
    {
      "cell_type": "raw",
      "id": "6674f733-f05e-4c24-8934-a64932ed7c8d",
      "metadata": {
        "id": "6674f733-f05e-4c24-8934-a64932ed7c8d"
      },
      "source": [
        "Volume trading is a measure of how much of a given financial asset has traded in a period of time. Volume traders look for instances of increased buying or selling orders. They also pay attention to current price trends and potential price movements. Generally, increased trading volume will lean heavily towards buy orders.\n"
      ]
    },
    {
      "cell_type": "raw",
      "id": "c5857ee8-64b8-4fcd-9d6c-5927d75f9ee8",
      "metadata": {
        "id": "c5857ee8-64b8-4fcd-9d6c-5927d75f9ee8"
      },
      "source": [
        "On Balance Volume (OBV):\n",
        "\n",
        "OBV is a momentum-based indicator which measures volume flow to gauge the direction of the trend. Volume and price rise are directly proportional and OBV can be used as a confirmation tool with regards to price trends. A rising price is depicted by a rising OBV and a falling OBV stands for a falling price."
      ]
    },
    {
      "cell_type": "code",
      "execution_count": null,
      "id": "9cb89ca5-a3f2-48f8-b812-528aa128ca0f",
      "metadata": {
        "id": "9cb89ca5-a3f2-48f8-b812-528aa128ca0f"
      },
      "outputs": [],
      "source": [
        "# Create copy of dataframe for AZN.L stock\n",
        "\n",
        "azn_obv = azn.copy()\n",
        "azn_obv"
      ]
    },
    {
      "cell_type": "code",
      "execution_count": null,
      "id": "80f71bb1-f30d-46c1-9d1b-204f041f0009",
      "metadata": {
        "id": "80f71bb1-f30d-46c1-9d1b-204f041f0009"
      },
      "outputs": [],
      "source": [
        "# Create dataframe for slice of AZN.L stock for 6 months July - Dec 2019\n",
        "\n",
        "azn_obv_6mo = azn_obv['2019-07-01':'2019-12-31']\n",
        "azn_obv_6mo"
      ]
    },
    {
      "cell_type": "code",
      "execution_count": null,
      "id": "dad44439-5030-4fb0-b873-29216a412c89",
      "metadata": {
        "id": "dad44439-5030-4fb0-b873-29216a412c89"
      },
      "outputs": [],
      "source": [
        "# Plot AZN.L Adjusted Close price for the time period\n",
        "\n",
        "def obv_adj():\n",
        "  plt.figure(figsize=(17, 8))\n",
        "  plt.style.use('seaborn')\n",
        "  plt.plot(azn_obv_6mo['Adj Close'], label = 'Adjusted Close')\n",
        "  plt.title('AZN.L Adjusted Close Price for 6 months (1 Jul - 31 Dec 2019)', color = 'black', fontsize = 20)\n",
        "  plt.xlabel('Date', color = 'black', fontsize = 15)\n",
        "  plt.ylabel('Price', color = 'black', fontsize = 15)\n",
        "  plt.legend()\n",
        "  plt.show()\n",
        "\n",
        "obv_adj()"
      ]
    },
    {
      "cell_type": "code",
      "execution_count": null,
      "id": "5d3b9bc9-ef30-4629-be1a-a0c20392c143",
      "metadata": {
        "id": "5d3b9bc9-ef30-4629-be1a-a0c20392c143"
      },
      "outputs": [],
      "source": [
        "# Calculate the OBV\n",
        "\n",
        "OBV = []\n",
        "OBV.append(0)\n",
        "\n",
        "for i in range(1, len(azn_obv_6mo['Adj Close'])):\n",
        "  if azn_obv_6mo['Adj Close'][i] > azn_obv_6mo['Adj Close'][i-1]:\n",
        "    OBV.append(OBV[-1] + azn_obv_6mo.Volume[i])\n",
        "  elif azn_obv_6mo['Adj Close'][i] < azn_obv_6mo['Adj Close'][i-1]:\n",
        "    OBV.append(OBV[-1] - azn_obv_6mo.Volume[i])\n",
        "  else:\n",
        "    OBV.append(OBV[-1])\n",
        "\n",
        "\n",
        "\n",
        "# Store OBV and OBV EMA in new columns\n",
        "\n",
        "azn_obv_6mo['OBV'] = OBV\n",
        "azn_obv_6mo['OBV_EMA'] = azn_obv_6mo['OBV'].ewm(span=20).mean()\n",
        "azn_obv_6mo"
      ]
    },
    {
      "cell_type": "code",
      "execution_count": null,
      "id": "83f7e233-385f-4925-acb3-6e1eebd5b473",
      "metadata": {
        "id": "83f7e233-385f-4925-acb3-6e1eebd5b473"
      },
      "outputs": [],
      "source": [
        "# Plot OBV and OBV with EMA of 20 days\n",
        "\n",
        "def obv_ema():\n",
        "  plt.figure(figsize=(17, 8))\n",
        "  plt.style.use('seaborn')\n",
        "  plt.plot(azn_obv_6mo['OBV'], label = 'OBV', color = 'orange')\n",
        "  plt.plot(azn_obv_6mo['OBV_EMA'], label = 'OBV_EMA', color = 'purple')\n",
        "  plt.title('AZN.L OBV and  OBV 20-day EMA', color = 'black', fontsize = 20)\n",
        "  plt.xlabel('Date', fontsize = 15)\n",
        "  plt.ylabel('Price', fontsize = 15)\n",
        "  plt.legend(loc = 'upper left')\n",
        "  plt.show()\n",
        "\n",
        "obv_ema()"
      ]
    },
    {
      "cell_type": "code",
      "execution_count": null,
      "id": "ffd046cf-382b-4803-b299-b9e1e69136bb",
      "metadata": {
        "id": "ffd046cf-382b-4803-b299-b9e1e69136bb"
      },
      "outputs": [],
      "source": [
        "# Create function to signal when to buy and sell the stock\n",
        "# If OBV > OBV_EMA then buy\n",
        "# If OBV < OBV_EMA then sell\n",
        "# Else do nothing\n",
        "\n",
        "def buy_sell_obv(signal, col1, col2):\n",
        "  sigPriceBuy = []\n",
        "  sigPriceSell = []\n",
        "  flag = -1\n",
        "\n",
        "  for i in range(0, len(signal)):\n",
        "    # If OBV > OBV_EMA then buy --> col1 => If OBV < OBV_EMA then sell => 'OBV_EMA'\n",
        "    if signal[col1][i] > signal[col2][i] and flag != 1:\n",
        "      sigPriceBuy.append(signal['Adj Close'][i])\n",
        "      sigPriceSell.append(np.nan)\n",
        "      flag = 1\n",
        "     # If OBV < OBV_EMA then sell\n",
        "    elif signal[col1][i] < signal[col2][i] and flag != 0:\n",
        "      sigPriceSell.append(signal['Adj Close'][i])\n",
        "      sigPriceBuy.append(np.nan)\n",
        "      flag = 0\n",
        "    else:\n",
        "      sigPriceSell.append(np.nan)\n",
        "      sigPriceBuy.append(np.nan)\n",
        "\n",
        "  return (sigPriceBuy, sigPriceSell)"
      ]
    },
    {
      "cell_type": "code",
      "execution_count": null,
      "id": "79e6b3d1-6a8d-4e7c-9981-0fe36058d0e7",
      "metadata": {
        "id": "79e6b3d1-6a8d-4e7c-9981-0fe36058d0e7"
      },
      "outputs": [],
      "source": [
        "# Create buy and sell columns\n",
        "\n",
        "x = buy_sell_obv(azn_obv_6mo, 'OBV', 'OBV_EMA')\n",
        "azn_obv_6mo['Buy_Signal_Price'] = x[0]\n",
        "azn_obv_6mo['Sell_Signal_Price'] = x[1]\n",
        "\n",
        "azn_obv_6mo"
      ]
    },
    {
      "cell_type": "code",
      "execution_count": null,
      "id": "0594e4bf-8884-4c2a-9bf1-4d682db38a73",
      "metadata": {
        "id": "0594e4bf-8884-4c2a-9bf1-4d682db38a73"
      },
      "outputs": [],
      "source": [
        "# Plot buy and sell trading signals\n",
        "\n",
        "def obv_sig():\n",
        "  plt.figure(figsize=(17, 8))\n",
        "  plt.style.use('seaborn')\n",
        "  plt.plot(azn_obv_6mo['Adj Close'], label = 'Adjusted Close', alpha = 0.5)\n",
        "  plt.scatter(azn_obv_6mo.index, azn_obv_6mo['Buy_Signal_Price'], label = 'Buy Signal', marker = '^', alpha = 1, color = 'green')\n",
        "  plt.scatter(azn_obv_6mo.index, azn_obv_6mo['Sell_Signal_Price'], label = 'Sell Signal', marker = 'v', alpha = 1, color = 'red')\n",
        "  plt.title('Trading Signals', color = 'black', fontsize = 20)\n",
        "  plt.xlabel('Date', fontsize = 15)\n",
        "  plt.ylabel('Price', fontsize = 15)\n",
        "  plt.legend(loc = 'upper left')\n",
        "  plt.show()\n",
        "\n",
        "obv_sig()\n",
        ""
      ]
    },
    {
      "cell_type": "code",
      "execution_count": null,
      "id": "93412e72-7ca9-4e72-b386-69c4a446fec8",
      "metadata": {
        "id": "93412e72-7ca9-4e72-b386-69c4a446fec8"
      },
      "outputs": [],
      "source": [
        "!git init"
      ]
    },
    {
      "cell_type": "code",
      "execution_count": null,
      "id": "0401a5c6-851f-4faf-89bd-77cdece32868",
      "metadata": {
        "id": "0401a5c6-851f-4faf-89bd-77cdece32868"
      },
      "outputs": [],
      "source": [
        "git add."
      ]
    },
    {
      "cell_type": "code",
      "execution_count": null,
      "id": "34e1758c-11ea-4fc6-bcd5-47e56107b76c",
      "metadata": {
        "id": "34e1758c-11ea-4fc6-bcd5-47e56107b76c"
      },
      "outputs": [],
      "source": []
    }
  ],
  "metadata": {
    "kernelspec": {
      "display_name": "Python 3 (ipykernel)",
      "language": "python",
      "name": "python3"
    },
    "language_info": {
      "codemirror_mode": {
        "name": "ipython",
        "version": 3
      },
      "file_extension": ".py",
      "mimetype": "text/x-python",
      "name": "python",
      "nbconvert_exporter": "python",
      "pygments_lexer": "ipython3",
      "version": "3.10.4"
    },
    "colab": {
      "provenance": [],
      "include_colab_link": true
    }
  },
  "nbformat": 4,
  "nbformat_minor": 5
}